{
 "cells": [
  {
   "cell_type": "code",
   "execution_count": 10,
   "metadata": {},
   "outputs": [
    {
     "name": "stdout",
     "output_type": "stream",
     "text": [
      "{'ECHOTEXT': 'Hello SAP!', 'RESPTEXT': 'SAP R/3 Rel. 700   Sysid: R3P      Date: 20221219   Time: 161742   Logon_Data: 100/C002102/3'}\n"
     ]
    },
    {
     "ename": "ABAPRuntimeError",
     "evalue": "RFC_ABAP_RUNTIME_FAILURE (rc=3): key=SAPSQL_INVALID_FIELDNAME, message=A dynamically specified column name is unknown. [MSG: class=, type=, number=, v1-4:=;;;]",
     "output_type": "error",
     "traceback": [
      "\u001b[1;31m---------------------------------------------------------------------------\u001b[0m",
      "\u001b[1;31mABAPRuntimeError\u001b[0m                          Traceback (most recent call last)",
      "Cell \u001b[1;32mIn[10], line 27\u001b[0m\n\u001b[0;32m     25\u001b[0m \u001b[39mwith\u001b[39;00m pyrfc\u001b[39m.\u001b[39mConnection(\u001b[39m*\u001b[39m\u001b[39m*\u001b[39mcredentials) \u001b[39mas\u001b[39;00m conn:\n\u001b[0;32m     26\u001b[0m     fields\u001b[39m=\u001b[39m[\u001b[39m\"\u001b[39m\u001b[39mWERKS\u001b[39m\u001b[39m\"\u001b[39m, \u001b[39m\"\u001b[39m\u001b[39mMATNR\u001b[39m\u001b[39m\"\u001b[39m, \u001b[39m\"\u001b[39m\u001b[39mCHARG\u001b[39m\u001b[39m\"\u001b[39m, \u001b[39m\"\u001b[39m\u001b[39mLGORT\u001b[39m\u001b[39m\"\u001b[39m, \u001b[39m\"\u001b[39m\u001b[39mCLABS\u001b[39m\u001b[39m\"\u001b[39m]\n\u001b[1;32m---> 27\u001b[0m     result\u001b[39m=\u001b[39mconn\u001b[39m.\u001b[39;49mcall(\u001b[39m\"\u001b[39;49m\u001b[39mRFC_READ_TABLE\u001b[39;49m\u001b[39m\"\u001b[39;49m, QUERY_TABLE\u001b[39m=\u001b[39;49m\u001b[39m'\u001b[39;49m\u001b[39mMCHB\u001b[39;49m\u001b[39m'\u001b[39;49m, FIELDS\u001b[39m=\u001b[39;49mfields, OPTIONS\u001b[39m=\u001b[39;49m[{\u001b[39m'\u001b[39;49m\u001b[39mTEXT\u001b[39;49m\u001b[39m'\u001b[39;49m:\u001b[39m\"\u001b[39;49m\u001b[39mWERKS=\u001b[39;49m\u001b[39m'\u001b[39;49m\u001b[39m3204\u001b[39;49m\u001b[39m'\u001b[39;49m\u001b[39m\"\u001b[39;49m}])\n\u001b[0;32m     29\u001b[0m     \u001b[39mprint\u001b[39m(result)\n",
      "File \u001b[1;32msrc\\pyrfc\\_pyrfc.pyx:520\u001b[0m, in \u001b[0;36mpyrfc.pyrfc.Connection.call\u001b[1;34m()\u001b[0m\n",
      "File \u001b[1;32msrc\\pyrfc\\_pyrfc.pyx:352\u001b[0m, in \u001b[0;36mpyrfc.pyrfc.Connection._error\u001b[1;34m()\u001b[0m\n",
      "\u001b[1;31mABAPRuntimeError\u001b[0m: RFC_ABAP_RUNTIME_FAILURE (rc=3): key=SAPSQL_INVALID_FIELDNAME, message=A dynamically specified column name is unknown. [MSG: class=, type=, number=, v1-4:=;;;]"
     ]
    }
   ],
   "source": [
    "\n",
    "from pyrfc import Connection\n",
    "conn = Connection(ashost='165.244.245.200', sysnr='00', client='100', user='c002102', passwd='whflq11+')\n",
    "\n",
    "# ABAP variables are mapped to Python variables\n",
    "result = conn.call('STFC_CONNECTION', REQUTEXT=u'Hello SAP!')\n",
    "print (result)\n",
    "{u'ECHOTEXT': u'Hello SAP!',\n",
    " u'RESPTEXT': u'SAP R/3 Rel. 702   Sysid: ABC   Date: 20121001   Time: 134524   Logon_Data: 100/ME/E'}\n",
    "\n",
    "# ABAP structures are mapped to Python dictionaries\n",
    "IMPORTSTRUCT = { \"RFCFLOAT\": 1.23456789, \"RFCCHAR1\": \"A\" }\n",
    "\n",
    "# ABAP tables are mapped to Python lists, of dictionaries representing ABAP tables' rows\n",
    "IMPORTTABLE = []\n",
    "\n",
    "result = conn.call(\"STFC_STRUCTURE\", IMPORTSTRUCT=IMPORTSTRUCT, RFCTABLE=IMPORTTABLE)\n",
    "\n",
    "\n",
    "import pyrfc\n",
    "import json\n",
    "\n",
    "f=open(\"credentials.json\")\n",
    "credentials=json.load(f)\n",
    "\n",
    "with pyrfc.Connection(**credentials) as conn:\n",
    "    fields=[\"WERKS\", \"MATNR\", \"CHARG\", \"LGORT\", \"CLABS\"]\n",
    "    result=conn.call(\"RFC_READ_TABLE\", QUERY_TABLE='MCHB', FIELDS=fields, OPTIONS=[{'TEXT':\"WERKS='3204'\"}])\n",
    "\n",
    "    print(result)"
   ]
  },
  {
   "cell_type": "code",
   "execution_count": null,
   "metadata": {},
   "outputs": [],
   "source": [
    "import pyrfc\n",
    "import json\n",
    "\n",
    "f=open(\"credentials.json\")\n",
    "credentials=json.load(f)\n",
    "\n",
    "with pyrfc.Connection(**credentials) as conn:\n",
    "    fields=['WERKS', 'MATNR', 'CHARG', 'LGORT', 'CLABS']\n",
    "    result=conn.call(\"RFC_READ_TABLE\", QUERY_TABLE='MCHB', FIELDS=fields,OPTIONS = [{'TEXT': 'WERKS = 3204'}], DELIMITER = \",\")\n",
    "\n",
    "    print(result)"
   ]
  }
 ],
 "metadata": {
  "kernelspec": {
   "display_name": "Python 3",
   "language": "python",
   "name": "python3"
  },
  "language_info": {
   "codemirror_mode": {
    "name": "ipython",
    "version": 3
   },
   "file_extension": ".py",
   "mimetype": "text/x-python",
   "name": "python",
   "nbconvert_exporter": "python",
   "pygments_lexer": "ipython3",
   "version": "3.11.0 (main, Oct 24 2022, 18:26:48) [MSC v.1933 64 bit (AMD64)]"
  },
  "orig_nbformat": 4,
  "vscode": {
   "interpreter": {
    "hash": "de47f5c92c0ee6f12a59a5613ac5feff6aab19ddff207ba0b3964cced08c4ccc"
   }
  }
 },
 "nbformat": 4,
 "nbformat_minor": 2
}
