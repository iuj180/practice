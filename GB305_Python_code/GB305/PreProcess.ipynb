{
 "cells": [
  {
   "cell_type": "code",
   "execution_count": 83,
   "metadata": {
    "collapsed": true
   },
   "outputs": [],
   "source": [
    "import pandas as pd\n",
    "import os\n",
    "import seaborn as sb\n",
    "import calendar\n",
    "import matplotlib.pyplot as plt\n",
    "%matplotlib inline\n",
    "\n",
    "sb.set_style('whitegrid')\n",
    "plt.rcParams['font.family'] = 'Malgun Gothic'"
   ]
  },
  {
   "cell_type": "code",
   "execution_count": 84,
   "outputs": [],
   "source": [
    "str_default_dir = 'D:\\\\Data\\\\GB305'\n",
    "\n",
    "df_raw = pd.read_excel(f'{str_default_dir}\\\\RawData_20220316.xlsx', engine='openpyxl')\n",
    "df_raw_1 = df_raw"
   ],
   "metadata": {
    "collapsed": false,
    "pycharm": {
     "name": "#%%\n"
    }
   }
  },
  {
   "cell_type": "code",
   "execution_count": 85,
   "outputs": [
    {
     "data": {
      "text/plain": "     X_외측 핀사이 금속이물     X_미사출     C_핀함몰  C_감합 바닥 플래쉬  C_감합부측면플래쉬  \\\n0         0.000365  0.005678  0.002865     0.002552           0   \n1         0.000760  0.009066  0.000405     0.000810           0   \n2         0.000960  0.002527  0.005155     0.000606           0   \n3         0.000359  0.010049  0.063163     0.000615           0   \n4         0.000612  0.013162  0.000969     0.002041           0   \n..             ...       ...       ...          ...         ...   \n897       0.002262  0.006014  0.000308     0.000206           0   \n898       0.001653  0.006210  0.000300     0.000200           0   \n899       0.001799  0.004113  0.000771     0.000000           0   \n900       0.002815  0.008748  0.001207     0.000101           0   \n901       0.002129  0.005626  0.001267     0.000355           0   \n\n     C_감합부 측면 찍힘(금속)  H_홀드상하플래쉬  H_홀드찍힘(금속이물)  C_외측감합부플래쉬   C_감합부함몰  \\\n0           0.000469        0.0      0.000000    0.224358  0.000052   \n1           0.000253        0.0      0.000051    0.000405  0.000051   \n2           0.007682        0.0      0.000152    0.051246  0.000051   \n3           0.000103        0.0      0.000051    0.000000  0.000000   \n4           0.000153        0.0      0.000102    0.003979  0.000000   \n..               ...        ...           ...         ...       ...   \n897         0.000000        0.0      0.000051    0.000308  0.000000   \n898         0.000200        0.0      0.000000    0.003105  0.000050   \n899         0.000103        0.0      0.000051    0.000257  0.000051   \n900         0.000302        0.0      0.001307    0.000000  0.000050   \n901         0.000101        0.0      0.000304    0.002686  0.000000   \n\n     C_리드찍힘,리드사이금속  X_금속이물(하면)  X_금속이물 상면  H_홀드 좌우 플래쉬  H_HD내측플래쉬  H_HD상면플래쉬  \n0         0.000208    0.001615   0.000208     0.003073   0.001094          0  \n1         0.000101    0.003697   0.000051     0.001064   0.000304          0  \n2         0.000657    0.001263   0.000000     0.006772   0.000657          0  \n3         0.000769    0.000513   0.000000     0.000359   0.004153          0  \n4         0.000153    0.000765   0.000306     0.000000   0.000663          0  \n..             ...         ...        ...          ...        ...        ...  \n897       0.000308    0.000720   0.000000     0.000051   0.019378          0  \n898       0.000100    0.000801   0.000000     0.001102   0.004908          0  \n899       0.002622    0.005398   0.000514     0.001182   0.101948          0  \n900       0.053542    0.004877   0.000754     0.000201   0.000503          0  \n901       0.001723    0.010340   0.000862     0.001115   0.000355          0  \n\n[902 rows x 16 columns]",
      "text/html": "<div>\n<style scoped>\n    .dataframe tbody tr th:only-of-type {\n        vertical-align: middle;\n    }\n\n    .dataframe tbody tr th {\n        vertical-align: top;\n    }\n\n    .dataframe thead th {\n        text-align: right;\n    }\n</style>\n<table border=\"1\" class=\"dataframe\">\n  <thead>\n    <tr style=\"text-align: right;\">\n      <th></th>\n      <th>X_외측 핀사이 금속이물</th>\n      <th>X_미사출</th>\n      <th>C_핀함몰</th>\n      <th>C_감합 바닥 플래쉬</th>\n      <th>C_감합부측면플래쉬</th>\n      <th>C_감합부 측면 찍힘(금속)</th>\n      <th>H_홀드상하플래쉬</th>\n      <th>H_홀드찍힘(금속이물)</th>\n      <th>C_외측감합부플래쉬</th>\n      <th>C_감합부함몰</th>\n      <th>C_리드찍힘,리드사이금속</th>\n      <th>X_금속이물(하면)</th>\n      <th>X_금속이물 상면</th>\n      <th>H_홀드 좌우 플래쉬</th>\n      <th>H_HD내측플래쉬</th>\n      <th>H_HD상면플래쉬</th>\n    </tr>\n  </thead>\n  <tbody>\n    <tr>\n      <th>0</th>\n      <td>0.000365</td>\n      <td>0.005678</td>\n      <td>0.002865</td>\n      <td>0.002552</td>\n      <td>0</td>\n      <td>0.000469</td>\n      <td>0.0</td>\n      <td>0.000000</td>\n      <td>0.224358</td>\n      <td>0.000052</td>\n      <td>0.000208</td>\n      <td>0.001615</td>\n      <td>0.000208</td>\n      <td>0.003073</td>\n      <td>0.001094</td>\n      <td>0</td>\n    </tr>\n    <tr>\n      <th>1</th>\n      <td>0.000760</td>\n      <td>0.009066</td>\n      <td>0.000405</td>\n      <td>0.000810</td>\n      <td>0</td>\n      <td>0.000253</td>\n      <td>0.0</td>\n      <td>0.000051</td>\n      <td>0.000405</td>\n      <td>0.000051</td>\n      <td>0.000101</td>\n      <td>0.003697</td>\n      <td>0.000051</td>\n      <td>0.001064</td>\n      <td>0.000304</td>\n      <td>0</td>\n    </tr>\n    <tr>\n      <th>2</th>\n      <td>0.000960</td>\n      <td>0.002527</td>\n      <td>0.005155</td>\n      <td>0.000606</td>\n      <td>0</td>\n      <td>0.007682</td>\n      <td>0.0</td>\n      <td>0.000152</td>\n      <td>0.051246</td>\n      <td>0.000051</td>\n      <td>0.000657</td>\n      <td>0.001263</td>\n      <td>0.000000</td>\n      <td>0.006772</td>\n      <td>0.000657</td>\n      <td>0</td>\n    </tr>\n    <tr>\n      <th>3</th>\n      <td>0.000359</td>\n      <td>0.010049</td>\n      <td>0.063163</td>\n      <td>0.000615</td>\n      <td>0</td>\n      <td>0.000103</td>\n      <td>0.0</td>\n      <td>0.000051</td>\n      <td>0.000000</td>\n      <td>0.000000</td>\n      <td>0.000769</td>\n      <td>0.000513</td>\n      <td>0.000000</td>\n      <td>0.000359</td>\n      <td>0.004153</td>\n      <td>0</td>\n    </tr>\n    <tr>\n      <th>4</th>\n      <td>0.000612</td>\n      <td>0.013162</td>\n      <td>0.000969</td>\n      <td>0.002041</td>\n      <td>0</td>\n      <td>0.000153</td>\n      <td>0.0</td>\n      <td>0.000102</td>\n      <td>0.003979</td>\n      <td>0.000000</td>\n      <td>0.000153</td>\n      <td>0.000765</td>\n      <td>0.000306</td>\n      <td>0.000000</td>\n      <td>0.000663</td>\n      <td>0</td>\n    </tr>\n    <tr>\n      <th>...</th>\n      <td>...</td>\n      <td>...</td>\n      <td>...</td>\n      <td>...</td>\n      <td>...</td>\n      <td>...</td>\n      <td>...</td>\n      <td>...</td>\n      <td>...</td>\n      <td>...</td>\n      <td>...</td>\n      <td>...</td>\n      <td>...</td>\n      <td>...</td>\n      <td>...</td>\n      <td>...</td>\n    </tr>\n    <tr>\n      <th>897</th>\n      <td>0.002262</td>\n      <td>0.006014</td>\n      <td>0.000308</td>\n      <td>0.000206</td>\n      <td>0</td>\n      <td>0.000000</td>\n      <td>0.0</td>\n      <td>0.000051</td>\n      <td>0.000308</td>\n      <td>0.000000</td>\n      <td>0.000308</td>\n      <td>0.000720</td>\n      <td>0.000000</td>\n      <td>0.000051</td>\n      <td>0.019378</td>\n      <td>0</td>\n    </tr>\n    <tr>\n      <th>898</th>\n      <td>0.001653</td>\n      <td>0.006210</td>\n      <td>0.000300</td>\n      <td>0.000200</td>\n      <td>0</td>\n      <td>0.000200</td>\n      <td>0.0</td>\n      <td>0.000000</td>\n      <td>0.003105</td>\n      <td>0.000050</td>\n      <td>0.000100</td>\n      <td>0.000801</td>\n      <td>0.000000</td>\n      <td>0.001102</td>\n      <td>0.004908</td>\n      <td>0</td>\n    </tr>\n    <tr>\n      <th>899</th>\n      <td>0.001799</td>\n      <td>0.004113</td>\n      <td>0.000771</td>\n      <td>0.000000</td>\n      <td>0</td>\n      <td>0.000103</td>\n      <td>0.0</td>\n      <td>0.000051</td>\n      <td>0.000257</td>\n      <td>0.000051</td>\n      <td>0.002622</td>\n      <td>0.005398</td>\n      <td>0.000514</td>\n      <td>0.001182</td>\n      <td>0.101948</td>\n      <td>0</td>\n    </tr>\n    <tr>\n      <th>900</th>\n      <td>0.002815</td>\n      <td>0.008748</td>\n      <td>0.001207</td>\n      <td>0.000101</td>\n      <td>0</td>\n      <td>0.000302</td>\n      <td>0.0</td>\n      <td>0.001307</td>\n      <td>0.000000</td>\n      <td>0.000050</td>\n      <td>0.053542</td>\n      <td>0.004877</td>\n      <td>0.000754</td>\n      <td>0.000201</td>\n      <td>0.000503</td>\n      <td>0</td>\n    </tr>\n    <tr>\n      <th>901</th>\n      <td>0.002129</td>\n      <td>0.005626</td>\n      <td>0.001267</td>\n      <td>0.000355</td>\n      <td>0</td>\n      <td>0.000101</td>\n      <td>0.0</td>\n      <td>0.000304</td>\n      <td>0.002686</td>\n      <td>0.000000</td>\n      <td>0.001723</td>\n      <td>0.010340</td>\n      <td>0.000862</td>\n      <td>0.001115</td>\n      <td>0.000355</td>\n      <td>0</td>\n    </tr>\n  </tbody>\n</table>\n<p>902 rows × 16 columns</p>\n</div>"
     },
     "execution_count": 85,
     "metadata": {},
     "output_type": "execute_result"
    }
   ],
   "source": [
    "# df_raw.columns[list(df_raw.columns).index('X_미사출')]\n",
    "str_start_ng = 'X_외측 핀사이 금속이물'\n",
    "str_end_ng = 'H_HD상면플래쉬'\n",
    "\n",
    "n_start_ng = list(df_raw.columns).index(str_start_ng)\n",
    "n_end_ng = list(df_raw.columns).index(str_end_ng)\n",
    "idx_ng_rate = range(n_start_ng, n_end_ng + 1)\n",
    "df_raw[df_raw.columns[idx_ng_rate]]"
   ],
   "metadata": {
    "collapsed": false,
    "pycharm": {
     "name": "#%%\n"
    }
   }
  },
  {
   "cell_type": "code",
   "execution_count": 86,
   "outputs": [
    {
     "name": "stdout",
     "output_type": "stream",
     "text": [
      "2021 12\n",
      "2022 2\n"
     ]
    }
   ],
   "source": [
    "start_year = df_raw['검사일자'].min().year\n",
    "start_month = df_raw['검사일자'].min().month\n",
    "print(start_year, start_month)\n",
    "end_year = df_raw['검사일자'].max().year\n",
    "end_month = df_raw['검사일자'].max().month\n",
    "print(end_year, end_month)"
   ],
   "metadata": {
    "collapsed": false,
    "pycharm": {
     "name": "#%%\n"
    }
   }
  },
  {
   "cell_type": "code",
   "execution_count": 87,
   "outputs": [],
   "source": [
    "# year = 2022\n",
    "# month = 1\n",
    "# last_day = calendar.monthrange(year, month)[1]\n",
    "list_df = []\n",
    "month = start_month\n",
    "for year in range(start_year, end_year):\n",
    "    last_day = calendar.monthrange(year, month)[1]\n",
    "    # %%\n",
    "    str_start_date = f'{year}-{month:02d}-01'\n",
    "    str_end_date = f'{year}-{month:02d}-{last_day}'\n",
    "\n",
    "    list_df.append(df_raw[(df_raw['검사일자'] >= str_start_date) & (df_raw['검사일자'] <= str_end_date)])\n",
    "\n",
    "    month += 1\n",
    "    if month > 12:\n",
    "        month = 1\n",
    "\n",
    "# str_start_date = f'{year}-{month:02d}-01'\n",
    "# str_end_date = f'{year}-{month:02d}-{last_day}'\n",
    "# df_raw[(df_raw['검사일자'] >= str_start_date) & (df_raw['검사일자'] <= str_end_date)]"
   ],
   "metadata": {
    "collapsed": false,
    "pycharm": {
     "name": "#%%\n"
    }
   }
  },
  {
   "cell_type": "code",
   "execution_count": 88,
   "outputs": [],
   "source": [
    "idx_prd_env = range(44, 55)\n",
    "df_x = df_raw[df_raw.columns[idx_prd_env]]\n",
    "idx_ng_rate = range(11, 27)\n",
    "df_y = df_raw[df_raw.columns[idx_ng_rate]]\n",
    "\n",
    "idx_n_inj = list(df_y.columns).index('X_미사출')\n",
    "idx_pin_dent = list(df_y.columns).index('C_핀함몰')\n",
    "idx_hd_infl = list(df_y.columns).index('H_HD내측플래쉬')\n",
    "\n",
    "list_idx = [idx_n_inj, idx_pin_dent, idx_hd_infl]\n",
    "df_x = df_x.drop([df_x.columns[5], df_x.columns[6], df_x.columns[7], df_x.columns[9], df_x.columns[10]], axis=1)"
   ],
   "metadata": {
    "collapsed": false,
    "pycharm": {
     "name": "#%%\n"
    }
   }
  },
  {
   "cell_type": "code",
   "execution_count": 89,
   "outputs": [],
   "source": [
    "for idx in list_idx:\n",
    "    str_folder_name = df_y[[df_y.columns[idx]]].columns[0]\n",
    "    str_folder_path = f'{str_default_dir}/{str_folder_name}'\n",
    "    os.makedirs(str_folder_path, exist_ok=True)\n",
    "\n",
    "    df_y[[df_y.columns[idx]]].to_excel(f'{str_folder_path}/Output.xlsx', header=None, index=False)\n",
    "    df_x.to_excel(f'{str_folder_path}/Input.xlsx', header=None, index=False)\n",
    "\n",
    "# df_y[[df_y.columns[idx_n_inj], df_y.columns[idx_pin_dent], df_y.columns[idx_hd_infl]]]"
   ],
   "metadata": {
    "collapsed": false,
    "pycharm": {
     "name": "#%%\n"
    }
   }
  },
  {
   "cell_type": "code",
   "execution_count": 90,
   "outputs": [],
   "source": [
    "list_env = ['I/M설비구분', 'I/M설비', '작업자', 'CT업체명', 'CT금형번호', 'HD금형번호']\n",
    "list_ng = ['X_미사출', 'C_핀함몰', 'H_HD내측플래쉬']"
   ],
   "metadata": {
    "collapsed": false,
    "pycharm": {
     "name": "#%%\n"
    }
   }
  },
  {
   "cell_type": "code",
   "execution_count": 91,
   "outputs": [
    {
     "name": "stdout",
     "output_type": "stream",
     "text": [
      "['수직', '수평']\n",
      "['권기섭', '김경락', '김승규', '김원진', '김현성', '남도환', '민경태', '박정호', '손영광', '오철민', '유지웅', '이종호', '이현구']\n",
      "['LSM', '미경', '성평']\n",
      "['P01', 'P02', 'P03', 'P04']\n",
      "['#1', '#2']\n"
     ]
    },
    {
     "name": "stderr",
     "output_type": "stream",
     "text": [
      "d:\\venv\\dataanalysis\\lib\\site-packages\\ipykernel_launcher.py:8: SettingWithCopyWarning: \n",
      "A value is trying to be set on a copy of a slice from a DataFrame\n",
      "\n",
      "See the caveats in the documentation: https://pandas.pydata.org/pandas-docs/stable/user_guide/indexing.html#returning-a-view-versus-a-copy\n",
      "  \n",
      "d:\\venv\\dataanalysis\\lib\\site-packages\\pandas\\core\\series.py:1021: SettingWithCopyWarning: \n",
      "A value is trying to be set on a copy of a slice from a DataFrame\n",
      "\n",
      "See the caveats in the documentation: https://pandas.pydata.org/pandas-docs/stable/user_guide/indexing.html#returning-a-view-versus-a-copy\n",
      "  self._where(~key, value, inplace=True)\n"
     ]
    },
    {
     "data": {
      "text/plain": "    I/M설비구분  I/M설비 작업자 CT업체명 CT금형번호 HD금형번호     X_미사출     C_핀함몰  H_HD내측플래쉬\n0         0     14   0     1      2      1  0.005678  0.002865   0.001094\n1         0     24  10     0      1      1  0.009066  0.000405   0.000304\n2         0     14   0     1      2      1  0.002527  0.005155   0.000657\n3         0     16   9     0      1      1  0.010049  0.063163   0.004153\n4         0     27   0     2      0      1  0.013162  0.000969   0.000663\n..      ...    ...  ..   ...    ...    ...       ...       ...        ...\n897       0     14   4     1      2      0  0.006014  0.000308   0.019378\n898       0     14  12     0      0      0  0.006210  0.000300   0.004908\n899       0     24   6     1      2      1  0.004113  0.000771   0.101948\n900       1      2  12     1      2      0  0.008748  0.001207   0.000503\n901       0     24   5     0      1      0  0.005626  0.001267   0.000355\n\n[902 rows x 9 columns]",
      "text/html": "<div>\n<style scoped>\n    .dataframe tbody tr th:only-of-type {\n        vertical-align: middle;\n    }\n\n    .dataframe tbody tr th {\n        vertical-align: top;\n    }\n\n    .dataframe thead th {\n        text-align: right;\n    }\n</style>\n<table border=\"1\" class=\"dataframe\">\n  <thead>\n    <tr style=\"text-align: right;\">\n      <th></th>\n      <th>I/M설비구분</th>\n      <th>I/M설비</th>\n      <th>작업자</th>\n      <th>CT업체명</th>\n      <th>CT금형번호</th>\n      <th>HD금형번호</th>\n      <th>X_미사출</th>\n      <th>C_핀함몰</th>\n      <th>H_HD내측플래쉬</th>\n    </tr>\n  </thead>\n  <tbody>\n    <tr>\n      <th>0</th>\n      <td>0</td>\n      <td>14</td>\n      <td>0</td>\n      <td>1</td>\n      <td>2</td>\n      <td>1</td>\n      <td>0.005678</td>\n      <td>0.002865</td>\n      <td>0.001094</td>\n    </tr>\n    <tr>\n      <th>1</th>\n      <td>0</td>\n      <td>24</td>\n      <td>10</td>\n      <td>0</td>\n      <td>1</td>\n      <td>1</td>\n      <td>0.009066</td>\n      <td>0.000405</td>\n      <td>0.000304</td>\n    </tr>\n    <tr>\n      <th>2</th>\n      <td>0</td>\n      <td>14</td>\n      <td>0</td>\n      <td>1</td>\n      <td>2</td>\n      <td>1</td>\n      <td>0.002527</td>\n      <td>0.005155</td>\n      <td>0.000657</td>\n    </tr>\n    <tr>\n      <th>3</th>\n      <td>0</td>\n      <td>16</td>\n      <td>9</td>\n      <td>0</td>\n      <td>1</td>\n      <td>1</td>\n      <td>0.010049</td>\n      <td>0.063163</td>\n      <td>0.004153</td>\n    </tr>\n    <tr>\n      <th>4</th>\n      <td>0</td>\n      <td>27</td>\n      <td>0</td>\n      <td>2</td>\n      <td>0</td>\n      <td>1</td>\n      <td>0.013162</td>\n      <td>0.000969</td>\n      <td>0.000663</td>\n    </tr>\n    <tr>\n      <th>...</th>\n      <td>...</td>\n      <td>...</td>\n      <td>...</td>\n      <td>...</td>\n      <td>...</td>\n      <td>...</td>\n      <td>...</td>\n      <td>...</td>\n      <td>...</td>\n    </tr>\n    <tr>\n      <th>897</th>\n      <td>0</td>\n      <td>14</td>\n      <td>4</td>\n      <td>1</td>\n      <td>2</td>\n      <td>0</td>\n      <td>0.006014</td>\n      <td>0.000308</td>\n      <td>0.019378</td>\n    </tr>\n    <tr>\n      <th>898</th>\n      <td>0</td>\n      <td>14</td>\n      <td>12</td>\n      <td>0</td>\n      <td>0</td>\n      <td>0</td>\n      <td>0.006210</td>\n      <td>0.000300</td>\n      <td>0.004908</td>\n    </tr>\n    <tr>\n      <th>899</th>\n      <td>0</td>\n      <td>24</td>\n      <td>6</td>\n      <td>1</td>\n      <td>2</td>\n      <td>1</td>\n      <td>0.004113</td>\n      <td>0.000771</td>\n      <td>0.101948</td>\n    </tr>\n    <tr>\n      <th>900</th>\n      <td>1</td>\n      <td>2</td>\n      <td>12</td>\n      <td>1</td>\n      <td>2</td>\n      <td>0</td>\n      <td>0.008748</td>\n      <td>0.001207</td>\n      <td>0.000503</td>\n    </tr>\n    <tr>\n      <th>901</th>\n      <td>0</td>\n      <td>24</td>\n      <td>5</td>\n      <td>0</td>\n      <td>1</td>\n      <td>0</td>\n      <td>0.005626</td>\n      <td>0.001267</td>\n      <td>0.000355</td>\n    </tr>\n  </tbody>\n</table>\n<p>902 rows × 9 columns</p>\n</div>"
     },
     "execution_count": 91,
     "metadata": {},
     "output_type": "execute_result"
    }
   ],
   "source": [
    "df_temp = df_raw[list_env+list_ng]\n",
    "\n",
    "for column in df_temp.columns:\n",
    "    if df_temp[column].dtype == object:\n",
    "        list_factor = list(df_temp[column].sort_values().drop_duplicates())\n",
    "        print(list_factor)\n",
    "        for idx, factor in enumerate(list_factor):\n",
    "            df_temp[column][df_temp[column] == factor] = idx\n",
    "\n",
    "df_temp"
   ],
   "metadata": {
    "collapsed": false,
    "pycharm": {
     "name": "#%%\n"
    }
   }
  },
  {
   "cell_type": "code",
   "execution_count": 92,
   "outputs": [],
   "source": [
    "# from sklearn.preprocessing import StandardScaler\n",
    "#\n",
    "# standard_scaler = StandardScaler()\n",
    "# df_temp = pd.DataFrame(standard_scaler.fit_transform(df_temp), columns=df_temp.columns)\n",
    "#\n",
    "# from sklearn.decomposition import PCA\n",
    "# from sklearn.cluster import KMeans\n",
    "# from sklearn import metrics\n",
    "#\n",
    "# pca = PCA(n_components=2)\n",
    "# # pca.fit(df_temp[['I/M설비구분', 'I/M설비', '작업자', 'CT업체명', 'CT금형번호', 'HD금형번호']], df_temp['C_핀함몰'])\n",
    "# reduced_df = pca.fit_transform(df_temp[['I/M설비구분', 'I/M설비', '작업자', 'CT업체명', 'CT금형번호', 'HD금형번호']], df_temp[['X_미사출', 'C_핀함몰', 'H_HD내측플래쉬']])\n",
    "#\n",
    "# distortions = []\n",
    "# for k in range(2, 20):\n",
    "#     kmeans = KMeans(n_clusters=k)\n",
    "#     kmeans.fit(reduced_df)\n",
    "#     distortions.append(kmeans.inertia_)\n",
    "#\n",
    "# fig = plt.figure(figsize=(10, 5))\n",
    "# plt.plot(range(2, 20), distortions)\n",
    "# plt.grid(True)\n",
    "# plt.title('Elbow curve')\n",
    "# plt.show()\n",
    "#\n",
    "# reduced_df = pd.DataFrame(reduced_df)\n",
    "#\n",
    "# km = KMeans(n_clusters=5, init='k-means++')\n",
    "# cluster = km.fit(reduced_df)\n",
    "# cluster_id = pd.DataFrame(cluster.labels_)\n",
    "#\n",
    "# d1 = pd.concat([reduced_df, cluster_id], axis=1)\n",
    "# d1.columns = [0, 1, 'cluster']\n",
    "#\n",
    "# sb.scatterplot(d1[0], d1[1], hue=d1['cluster'], legend='full')\n",
    "# sb.scatterplot(km.cluster_centers_[:, 0], km.cluster_centers_[:, 1], label='Centroids')\n",
    "# plt.title('Kmeans Clustering')\n",
    "# plt.legend()\n",
    "# plt.show()\n",
    "#\n",
    "# print('Silhouette Coefficient: {:.4f}'.format(metrics.silhouette_score(d1.iloc[:,:-1], d1['cluster'])))\n",
    "# print('Davies Bouldin Index: {:.4f}'.format(metrics.davies_bouldin_score(d1.iloc[:,:-1], d1['cluster'])))"
   ],
   "metadata": {
    "collapsed": false,
    "pycharm": {
     "name": "#%%\n"
    }
   }
  },
  {
   "cell_type": "code",
   "execution_count": 93,
   "outputs": [
    {
     "data": {
      "text/plain": "      금형번호       1       2       3       4       5       6       7       8  \\\n0      P03  0.5151  0.2961  1.2019  0.0063  0.1097  0.2086  0.1216  8.3938   \n1     None  0.5164  0.3025  1.2030  0.0109  0.1087  0.2075  0.1207  8.3926   \n2     None  0.5162  0.3024  1.1953  0.0091  0.1096  0.2074  0.1199  8.3916   \n3     None     NaN  0.3068     NaN  0.0074  0.1093  0.2069  0.1191  8.3933   \n4     None     NaN  0.3060     NaN  0.0004  0.1095  0.2073  0.1195  8.3957   \n...    ...     ...     ...     ...     ...     ...     ...     ...     ...   \n2275  None     NaN  0.2994     NaN  0.0017  0.1088  0.2084  0.1184  8.3691   \n2276  None     NaN  0.2972     NaN  0.0007  0.1088  0.2072  0.1189  8.3723   \n2277  None     NaN  0.3066     NaN  0.0019  0.1091  0.2080  0.1186  8.3677   \n2278  None     NaN  0.3007     NaN  0.0049  0.1084  0.2066  0.1194  8.3716   \n2279  None     NaN  0.2919     NaN  0.0058  0.1084  0.2070  0.1196  8.3694   \n\n         9-1  ...      11      12      13      14      15      16      17  \\\n0     0.2960  ...  0.0180  0.2590  0.3820  0.0140  0.3580  0.2470  0.3210   \n1     0.2980  ...  0.0210  0.2460  0.3760  0.0250  0.3520  0.2450  0.3260   \n2     0.2990  ...  0.0220  0.2480  0.3780  0.0190  0.3580  0.2450  0.3260   \n3     0.2990  ...  0.0210  0.2470  0.3750  0.0180  0.3530  0.2420  0.3220   \n4     0.3000  ...  0.0210  0.2490  0.3770  0.0200  0.3540  0.2430  0.3240   \n...      ...  ...     ...     ...     ...     ...     ...     ...     ...   \n2275  0.3041  ...  0.0239  0.2501  0.3768  0.0030  0.3563  0.2321  0.3142   \n2276  0.3040  ...  0.0227  0.2471  0.3760  0.0045  0.3538  0.2307  0.3147   \n2277  0.3013  ...  0.0229  0.2452  0.3746  0.0054  0.3538  0.2328  0.3170   \n2278  0.3044  ...  0.0222  0.2490  0.3760  0.0029  0.3561  0.2319  0.3151   \n2279  0.3037  ...  0.0218  0.2484  0.3746  0.0026  0.3549  0.2341  0.3174   \n\n          18      19      20  \n0     0.4840  0.0050  0.0000  \n1     0.4790  0.0030  0.0000  \n2     0.4790  0.0050  0.0000  \n3     0.4820  0.0030  0.0000  \n4     0.4820  0.0040  0.0000  \n...      ...     ...     ...  \n2275  0.4844  0.0010  0.0095  \n2276  0.4851  0.0012  0.0075  \n2277  0.4857  0.0018  0.0079  \n2278  0.4852  0.0003  0.0082  \n2279  0.4839  0.0011  0.0067  \n\n[2280 rows x 22 columns]",
      "text/html": "<div>\n<style scoped>\n    .dataframe tbody tr th:only-of-type {\n        vertical-align: middle;\n    }\n\n    .dataframe tbody tr th {\n        vertical-align: top;\n    }\n\n    .dataframe thead th {\n        text-align: right;\n    }\n</style>\n<table border=\"1\" class=\"dataframe\">\n  <thead>\n    <tr style=\"text-align: right;\">\n      <th></th>\n      <th>금형번호</th>\n      <th>1</th>\n      <th>2</th>\n      <th>3</th>\n      <th>4</th>\n      <th>5</th>\n      <th>6</th>\n      <th>7</th>\n      <th>8</th>\n      <th>9-1</th>\n      <th>...</th>\n      <th>11</th>\n      <th>12</th>\n      <th>13</th>\n      <th>14</th>\n      <th>15</th>\n      <th>16</th>\n      <th>17</th>\n      <th>18</th>\n      <th>19</th>\n      <th>20</th>\n    </tr>\n  </thead>\n  <tbody>\n    <tr>\n      <th>0</th>\n      <td>P03</td>\n      <td>0.5151</td>\n      <td>0.2961</td>\n      <td>1.2019</td>\n      <td>0.0063</td>\n      <td>0.1097</td>\n      <td>0.2086</td>\n      <td>0.1216</td>\n      <td>8.3938</td>\n      <td>0.2960</td>\n      <td>...</td>\n      <td>0.0180</td>\n      <td>0.2590</td>\n      <td>0.3820</td>\n      <td>0.0140</td>\n      <td>0.3580</td>\n      <td>0.2470</td>\n      <td>0.3210</td>\n      <td>0.4840</td>\n      <td>0.0050</td>\n      <td>0.0000</td>\n    </tr>\n    <tr>\n      <th>1</th>\n      <td>None</td>\n      <td>0.5164</td>\n      <td>0.3025</td>\n      <td>1.2030</td>\n      <td>0.0109</td>\n      <td>0.1087</td>\n      <td>0.2075</td>\n      <td>0.1207</td>\n      <td>8.3926</td>\n      <td>0.2980</td>\n      <td>...</td>\n      <td>0.0210</td>\n      <td>0.2460</td>\n      <td>0.3760</td>\n      <td>0.0250</td>\n      <td>0.3520</td>\n      <td>0.2450</td>\n      <td>0.3260</td>\n      <td>0.4790</td>\n      <td>0.0030</td>\n      <td>0.0000</td>\n    </tr>\n    <tr>\n      <th>2</th>\n      <td>None</td>\n      <td>0.5162</td>\n      <td>0.3024</td>\n      <td>1.1953</td>\n      <td>0.0091</td>\n      <td>0.1096</td>\n      <td>0.2074</td>\n      <td>0.1199</td>\n      <td>8.3916</td>\n      <td>0.2990</td>\n      <td>...</td>\n      <td>0.0220</td>\n      <td>0.2480</td>\n      <td>0.3780</td>\n      <td>0.0190</td>\n      <td>0.3580</td>\n      <td>0.2450</td>\n      <td>0.3260</td>\n      <td>0.4790</td>\n      <td>0.0050</td>\n      <td>0.0000</td>\n    </tr>\n    <tr>\n      <th>3</th>\n      <td>None</td>\n      <td>NaN</td>\n      <td>0.3068</td>\n      <td>NaN</td>\n      <td>0.0074</td>\n      <td>0.1093</td>\n      <td>0.2069</td>\n      <td>0.1191</td>\n      <td>8.3933</td>\n      <td>0.2990</td>\n      <td>...</td>\n      <td>0.0210</td>\n      <td>0.2470</td>\n      <td>0.3750</td>\n      <td>0.0180</td>\n      <td>0.3530</td>\n      <td>0.2420</td>\n      <td>0.3220</td>\n      <td>0.4820</td>\n      <td>0.0030</td>\n      <td>0.0000</td>\n    </tr>\n    <tr>\n      <th>4</th>\n      <td>None</td>\n      <td>NaN</td>\n      <td>0.3060</td>\n      <td>NaN</td>\n      <td>0.0004</td>\n      <td>0.1095</td>\n      <td>0.2073</td>\n      <td>0.1195</td>\n      <td>8.3957</td>\n      <td>0.3000</td>\n      <td>...</td>\n      <td>0.0210</td>\n      <td>0.2490</td>\n      <td>0.3770</td>\n      <td>0.0200</td>\n      <td>0.3540</td>\n      <td>0.2430</td>\n      <td>0.3240</td>\n      <td>0.4820</td>\n      <td>0.0040</td>\n      <td>0.0000</td>\n    </tr>\n    <tr>\n      <th>...</th>\n      <td>...</td>\n      <td>...</td>\n      <td>...</td>\n      <td>...</td>\n      <td>...</td>\n      <td>...</td>\n      <td>...</td>\n      <td>...</td>\n      <td>...</td>\n      <td>...</td>\n      <td>...</td>\n      <td>...</td>\n      <td>...</td>\n      <td>...</td>\n      <td>...</td>\n      <td>...</td>\n      <td>...</td>\n      <td>...</td>\n      <td>...</td>\n      <td>...</td>\n      <td>...</td>\n    </tr>\n    <tr>\n      <th>2275</th>\n      <td>None</td>\n      <td>NaN</td>\n      <td>0.2994</td>\n      <td>NaN</td>\n      <td>0.0017</td>\n      <td>0.1088</td>\n      <td>0.2084</td>\n      <td>0.1184</td>\n      <td>8.3691</td>\n      <td>0.3041</td>\n      <td>...</td>\n      <td>0.0239</td>\n      <td>0.2501</td>\n      <td>0.3768</td>\n      <td>0.0030</td>\n      <td>0.3563</td>\n      <td>0.2321</td>\n      <td>0.3142</td>\n      <td>0.4844</td>\n      <td>0.0010</td>\n      <td>0.0095</td>\n    </tr>\n    <tr>\n      <th>2276</th>\n      <td>None</td>\n      <td>NaN</td>\n      <td>0.2972</td>\n      <td>NaN</td>\n      <td>0.0007</td>\n      <td>0.1088</td>\n      <td>0.2072</td>\n      <td>0.1189</td>\n      <td>8.3723</td>\n      <td>0.3040</td>\n      <td>...</td>\n      <td>0.0227</td>\n      <td>0.2471</td>\n      <td>0.3760</td>\n      <td>0.0045</td>\n      <td>0.3538</td>\n      <td>0.2307</td>\n      <td>0.3147</td>\n      <td>0.4851</td>\n      <td>0.0012</td>\n      <td>0.0075</td>\n    </tr>\n    <tr>\n      <th>2277</th>\n      <td>None</td>\n      <td>NaN</td>\n      <td>0.3066</td>\n      <td>NaN</td>\n      <td>0.0019</td>\n      <td>0.1091</td>\n      <td>0.2080</td>\n      <td>0.1186</td>\n      <td>8.3677</td>\n      <td>0.3013</td>\n      <td>...</td>\n      <td>0.0229</td>\n      <td>0.2452</td>\n      <td>0.3746</td>\n      <td>0.0054</td>\n      <td>0.3538</td>\n      <td>0.2328</td>\n      <td>0.3170</td>\n      <td>0.4857</td>\n      <td>0.0018</td>\n      <td>0.0079</td>\n    </tr>\n    <tr>\n      <th>2278</th>\n      <td>None</td>\n      <td>NaN</td>\n      <td>0.3007</td>\n      <td>NaN</td>\n      <td>0.0049</td>\n      <td>0.1084</td>\n      <td>0.2066</td>\n      <td>0.1194</td>\n      <td>8.3716</td>\n      <td>0.3044</td>\n      <td>...</td>\n      <td>0.0222</td>\n      <td>0.2490</td>\n      <td>0.3760</td>\n      <td>0.0029</td>\n      <td>0.3561</td>\n      <td>0.2319</td>\n      <td>0.3151</td>\n      <td>0.4852</td>\n      <td>0.0003</td>\n      <td>0.0082</td>\n    </tr>\n    <tr>\n      <th>2279</th>\n      <td>None</td>\n      <td>NaN</td>\n      <td>0.2919</td>\n      <td>NaN</td>\n      <td>0.0058</td>\n      <td>0.1084</td>\n      <td>0.2070</td>\n      <td>0.1196</td>\n      <td>8.3694</td>\n      <td>0.3037</td>\n      <td>...</td>\n      <td>0.0218</td>\n      <td>0.2484</td>\n      <td>0.3746</td>\n      <td>0.0026</td>\n      <td>0.3549</td>\n      <td>0.2341</td>\n      <td>0.3174</td>\n      <td>0.4839</td>\n      <td>0.0011</td>\n      <td>0.0067</td>\n    </tr>\n  </tbody>\n</table>\n<p>2280 rows × 22 columns</p>\n</div>"
     },
     "execution_count": 93,
     "metadata": {},
     "output_type": "execute_result"
    }
   ],
   "source": [
    "str_mold = 'CT'\n",
    "str_measure_data_path = f'D:\\\\Data\\\\GB305\\\\Measure\\\\{str_mold}.xlsx'\\\n",
    "\n",
    "df_mold = pd.read_excel(str_measure_data_path, engine='openpyxl')\n",
    "\n",
    "each_nb = df_mold['시료수'].max()\n",
    "\n",
    "df_mold = df_mold.dropna(axis=1, how='all')\n",
    "\n",
    "series_lot_no = df_mold['LOT No']\n",
    "if str_mold == 'CT':\n",
    "    del df_mold['LOT No']\n",
    "\n",
    "series_mold_no = df_mold['금형번호']\n",
    "del df_mold['검사자']\n",
    "del df_mold['열/개취']\n",
    "del df_mold['시료수']\n",
    "\n",
    "df_mold = df_mold.dropna(axis=0, how='all')\n",
    "df_mold"
   ],
   "metadata": {
    "collapsed": false,
    "pycharm": {
     "name": "#%%\n"
    }
   }
  },
  {
   "cell_type": "code",
   "execution_count": 94,
   "outputs": [
    {
     "data": {
      "text/plain": "              1\n0           P03\n1        0.5159\n2      0.300342\n3       1.20007\n4       0.00485\n..          ...\n16   0.00180067\n17   0.00182574\n18   0.00226134\n19  0.000792961\n20            0\n\n[85 rows x 1 columns]",
      "text/html": "<div>\n<style scoped>\n    .dataframe tbody tr th:only-of-type {\n        vertical-align: middle;\n    }\n\n    .dataframe tbody tr th {\n        vertical-align: top;\n    }\n\n    .dataframe thead th {\n        text-align: right;\n    }\n</style>\n<table border=\"1\" class=\"dataframe\">\n  <thead>\n    <tr style=\"text-align: right;\">\n      <th></th>\n      <th>1</th>\n    </tr>\n  </thead>\n  <tbody>\n    <tr>\n      <th>0</th>\n      <td>P03</td>\n    </tr>\n    <tr>\n      <th>1</th>\n      <td>0.5159</td>\n    </tr>\n    <tr>\n      <th>2</th>\n      <td>0.300342</td>\n    </tr>\n    <tr>\n      <th>3</th>\n      <td>1.20007</td>\n    </tr>\n    <tr>\n      <th>4</th>\n      <td>0.00485</td>\n    </tr>\n    <tr>\n      <th>...</th>\n      <td>...</td>\n    </tr>\n    <tr>\n      <th>16</th>\n      <td>0.00180067</td>\n    </tr>\n    <tr>\n      <th>17</th>\n      <td>0.00182574</td>\n    </tr>\n    <tr>\n      <th>18</th>\n      <td>0.00226134</td>\n    </tr>\n    <tr>\n      <th>19</th>\n      <td>0.000792961</td>\n    </tr>\n    <tr>\n      <th>20</th>\n      <td>0</td>\n    </tr>\n  </tbody>\n</table>\n<p>85 rows × 1 columns</p>\n</div>"
     },
     "execution_count": 94,
     "metadata": {},
     "output_type": "execute_result"
    }
   ],
   "source": [
    "list_of_dfs = [df_mold.loc[i:i + each_nb - 1, :] for i in range(0, len(df_mold), each_nb)]\n",
    "df = list_of_dfs[0]\n",
    "series_temp = pd.concat([df.mean(), df.min(), df.max(), df.std()])\n",
    "mold_no = df['금형번호'].dropna()\n",
    "pd.DataFrame(pd.concat([mold_no, series_temp]), columns=[idx])"
   ],
   "metadata": {
    "collapsed": false,
    "pycharm": {
     "name": "#%%\n"
    }
   }
  },
  {
   "cell_type": "code",
   "execution_count": 95,
   "outputs": [
    {
     "data": {
      "text/plain": "         LOT No 금형번호         1         2         3         4         5  \\\n0    1221C01006  P03  0.515900  0.300342  1.200067  0.004850  0.109342   \n1    1221C01003  P03  0.514500  0.299642  1.199733  0.006250  0.108842   \n2    P21C020070  P02  0.512133  0.300117  1.200033  0.006733  0.109842   \n3    P21C020089  P02  0.512133  0.300800  1.199933  0.007408  0.109025   \n4    P21C020104  P02  0.511467  0.300475  1.199900  0.008817  0.110050   \n..          ...  ...       ...       ...       ...       ...       ...   \n185  P21C251157  P01  0.513933  0.300642  1.199767  0.004417  0.107333   \n186  P21C251167  P01  0.513567  0.300700  1.200133  0.005025  0.108108   \n187  P21C261021  P01  0.513900  0.299800  1.199833  0.003283  0.108175   \n188  P21C281068  P01  0.513933  0.299525  1.199800  0.004050  0.108775   \n189  P21C291013  P01  0.513933  0.299683  1.199767  0.003558  0.108608   \n\n            6         7         8  ...        11        12        13  \\\n0    0.207192  0.119775  8.395267  ...  0.001379  0.005015  0.002234   \n1    0.206542  0.119342  8.392792  ...  0.000793  0.004668  0.002195   \n2    0.207317  0.121683  8.368817  ...  0.000953  0.003988  0.002094   \n3    0.206958  0.122133  8.373750  ...  0.000718  0.003822  0.001382   \n4    0.207292  0.121900  8.368400  ...  0.000718  0.002314  0.001749   \n..        ...       ...       ...  ...       ...       ...       ...   \n185  0.206742  0.117508  8.371167  ...  0.000875  0.002752  0.001624   \n186  0.207733  0.118983  8.375150  ...  0.001472  0.001975  0.000792   \n187  0.207858  0.119000  8.371592  ...  0.001265  0.002667  0.001087   \n188  0.207375  0.119367  8.372933  ...  0.000814  0.001981  0.001169   \n189  0.207208  0.119000  8.369892  ...  0.001038  0.001725  0.001030   \n\n           14        15        16        17        18        19        20  \n0    0.004575  0.002999  0.001801  0.001826  0.002261  0.000793  0.000000  \n1    0.004033  0.002316  0.002094  0.002261  0.002065  0.000577  0.000000  \n2    0.003720  0.004053  0.003104  0.003605  0.002021  0.001850  0.001267  \n3    0.004351  0.002353  0.002089  0.003085  0.001557  0.000603  0.000835  \n4    0.002443  0.002209  0.001832  0.001311  0.001055  0.002000  0.000996  \n..        ...       ...       ...       ...       ...       ...       ...  \n185  0.001685  0.000968  0.001343  0.001413  0.002064  0.000869  0.001232  \n186  0.001627  0.001246  0.001631  0.001109  0.001472  0.000744  0.001272  \n187  0.002503  0.001800  0.001115  0.001119  0.002145  0.001209  0.001392  \n188  0.001867  0.001598  0.001315  0.001587  0.001782  0.001155  0.001631  \n189  0.001427  0.000976  0.001382  0.001183  0.002116  0.000756  0.001561  \n\n[190 rows x 86 columns]",
      "text/html": "<div>\n<style scoped>\n    .dataframe tbody tr th:only-of-type {\n        vertical-align: middle;\n    }\n\n    .dataframe tbody tr th {\n        vertical-align: top;\n    }\n\n    .dataframe thead th {\n        text-align: right;\n    }\n</style>\n<table border=\"1\" class=\"dataframe\">\n  <thead>\n    <tr style=\"text-align: right;\">\n      <th></th>\n      <th>LOT No</th>\n      <th>금형번호</th>\n      <th>1</th>\n      <th>2</th>\n      <th>3</th>\n      <th>4</th>\n      <th>5</th>\n      <th>6</th>\n      <th>7</th>\n      <th>8</th>\n      <th>...</th>\n      <th>11</th>\n      <th>12</th>\n      <th>13</th>\n      <th>14</th>\n      <th>15</th>\n      <th>16</th>\n      <th>17</th>\n      <th>18</th>\n      <th>19</th>\n      <th>20</th>\n    </tr>\n  </thead>\n  <tbody>\n    <tr>\n      <th>0</th>\n      <td>1221C01006</td>\n      <td>P03</td>\n      <td>0.515900</td>\n      <td>0.300342</td>\n      <td>1.200067</td>\n      <td>0.004850</td>\n      <td>0.109342</td>\n      <td>0.207192</td>\n      <td>0.119775</td>\n      <td>8.395267</td>\n      <td>...</td>\n      <td>0.001379</td>\n      <td>0.005015</td>\n      <td>0.002234</td>\n      <td>0.004575</td>\n      <td>0.002999</td>\n      <td>0.001801</td>\n      <td>0.001826</td>\n      <td>0.002261</td>\n      <td>0.000793</td>\n      <td>0.000000</td>\n    </tr>\n    <tr>\n      <th>1</th>\n      <td>1221C01003</td>\n      <td>P03</td>\n      <td>0.514500</td>\n      <td>0.299642</td>\n      <td>1.199733</td>\n      <td>0.006250</td>\n      <td>0.108842</td>\n      <td>0.206542</td>\n      <td>0.119342</td>\n      <td>8.392792</td>\n      <td>...</td>\n      <td>0.000793</td>\n      <td>0.004668</td>\n      <td>0.002195</td>\n      <td>0.004033</td>\n      <td>0.002316</td>\n      <td>0.002094</td>\n      <td>0.002261</td>\n      <td>0.002065</td>\n      <td>0.000577</td>\n      <td>0.000000</td>\n    </tr>\n    <tr>\n      <th>2</th>\n      <td>P21C020070</td>\n      <td>P02</td>\n      <td>0.512133</td>\n      <td>0.300117</td>\n      <td>1.200033</td>\n      <td>0.006733</td>\n      <td>0.109842</td>\n      <td>0.207317</td>\n      <td>0.121683</td>\n      <td>8.368817</td>\n      <td>...</td>\n      <td>0.000953</td>\n      <td>0.003988</td>\n      <td>0.002094</td>\n      <td>0.003720</td>\n      <td>0.004053</td>\n      <td>0.003104</td>\n      <td>0.003605</td>\n      <td>0.002021</td>\n      <td>0.001850</td>\n      <td>0.001267</td>\n    </tr>\n    <tr>\n      <th>3</th>\n      <td>P21C020089</td>\n      <td>P02</td>\n      <td>0.512133</td>\n      <td>0.300800</td>\n      <td>1.199933</td>\n      <td>0.007408</td>\n      <td>0.109025</td>\n      <td>0.206958</td>\n      <td>0.122133</td>\n      <td>8.373750</td>\n      <td>...</td>\n      <td>0.000718</td>\n      <td>0.003822</td>\n      <td>0.001382</td>\n      <td>0.004351</td>\n      <td>0.002353</td>\n      <td>0.002089</td>\n      <td>0.003085</td>\n      <td>0.001557</td>\n      <td>0.000603</td>\n      <td>0.000835</td>\n    </tr>\n    <tr>\n      <th>4</th>\n      <td>P21C020104</td>\n      <td>P02</td>\n      <td>0.511467</td>\n      <td>0.300475</td>\n      <td>1.199900</td>\n      <td>0.008817</td>\n      <td>0.110050</td>\n      <td>0.207292</td>\n      <td>0.121900</td>\n      <td>8.368400</td>\n      <td>...</td>\n      <td>0.000718</td>\n      <td>0.002314</td>\n      <td>0.001749</td>\n      <td>0.002443</td>\n      <td>0.002209</td>\n      <td>0.001832</td>\n      <td>0.001311</td>\n      <td>0.001055</td>\n      <td>0.002000</td>\n      <td>0.000996</td>\n    </tr>\n    <tr>\n      <th>...</th>\n      <td>...</td>\n      <td>...</td>\n      <td>...</td>\n      <td>...</td>\n      <td>...</td>\n      <td>...</td>\n      <td>...</td>\n      <td>...</td>\n      <td>...</td>\n      <td>...</td>\n      <td>...</td>\n      <td>...</td>\n      <td>...</td>\n      <td>...</td>\n      <td>...</td>\n      <td>...</td>\n      <td>...</td>\n      <td>...</td>\n      <td>...</td>\n      <td>...</td>\n      <td>...</td>\n    </tr>\n    <tr>\n      <th>185</th>\n      <td>P21C251157</td>\n      <td>P01</td>\n      <td>0.513933</td>\n      <td>0.300642</td>\n      <td>1.199767</td>\n      <td>0.004417</td>\n      <td>0.107333</td>\n      <td>0.206742</td>\n      <td>0.117508</td>\n      <td>8.371167</td>\n      <td>...</td>\n      <td>0.000875</td>\n      <td>0.002752</td>\n      <td>0.001624</td>\n      <td>0.001685</td>\n      <td>0.000968</td>\n      <td>0.001343</td>\n      <td>0.001413</td>\n      <td>0.002064</td>\n      <td>0.000869</td>\n      <td>0.001232</td>\n    </tr>\n    <tr>\n      <th>186</th>\n      <td>P21C251167</td>\n      <td>P01</td>\n      <td>0.513567</td>\n      <td>0.300700</td>\n      <td>1.200133</td>\n      <td>0.005025</td>\n      <td>0.108108</td>\n      <td>0.207733</td>\n      <td>0.118983</td>\n      <td>8.375150</td>\n      <td>...</td>\n      <td>0.001472</td>\n      <td>0.001975</td>\n      <td>0.000792</td>\n      <td>0.001627</td>\n      <td>0.001246</td>\n      <td>0.001631</td>\n      <td>0.001109</td>\n      <td>0.001472</td>\n      <td>0.000744</td>\n      <td>0.001272</td>\n    </tr>\n    <tr>\n      <th>187</th>\n      <td>P21C261021</td>\n      <td>P01</td>\n      <td>0.513900</td>\n      <td>0.299800</td>\n      <td>1.199833</td>\n      <td>0.003283</td>\n      <td>0.108175</td>\n      <td>0.207858</td>\n      <td>0.119000</td>\n      <td>8.371592</td>\n      <td>...</td>\n      <td>0.001265</td>\n      <td>0.002667</td>\n      <td>0.001087</td>\n      <td>0.002503</td>\n      <td>0.001800</td>\n      <td>0.001115</td>\n      <td>0.001119</td>\n      <td>0.002145</td>\n      <td>0.001209</td>\n      <td>0.001392</td>\n    </tr>\n    <tr>\n      <th>188</th>\n      <td>P21C281068</td>\n      <td>P01</td>\n      <td>0.513933</td>\n      <td>0.299525</td>\n      <td>1.199800</td>\n      <td>0.004050</td>\n      <td>0.108775</td>\n      <td>0.207375</td>\n      <td>0.119367</td>\n      <td>8.372933</td>\n      <td>...</td>\n      <td>0.000814</td>\n      <td>0.001981</td>\n      <td>0.001169</td>\n      <td>0.001867</td>\n      <td>0.001598</td>\n      <td>0.001315</td>\n      <td>0.001587</td>\n      <td>0.001782</td>\n      <td>0.001155</td>\n      <td>0.001631</td>\n    </tr>\n    <tr>\n      <th>189</th>\n      <td>P21C291013</td>\n      <td>P01</td>\n      <td>0.513933</td>\n      <td>0.299683</td>\n      <td>1.199767</td>\n      <td>0.003558</td>\n      <td>0.108608</td>\n      <td>0.207208</td>\n      <td>0.119000</td>\n      <td>8.369892</td>\n      <td>...</td>\n      <td>0.001038</td>\n      <td>0.001725</td>\n      <td>0.001030</td>\n      <td>0.001427</td>\n      <td>0.000976</td>\n      <td>0.001382</td>\n      <td>0.001183</td>\n      <td>0.002116</td>\n      <td>0.000756</td>\n      <td>0.001561</td>\n    </tr>\n  </tbody>\n</table>\n<p>190 rows × 86 columns</p>\n</div>"
     },
     "execution_count": 95,
     "metadata": {},
     "output_type": "execute_result"
    }
   ],
   "source": [
    "if str_mold == 'CT':\n",
    "    list_of_dfs = [df_mold.loc[i:i + each_nb - 1, :] for i in range(0, len(df_mold), each_nb)]\n",
    "\n",
    "    df_processed = pd.DataFrame()\n",
    "    for idx, df in enumerate(list_of_dfs):\n",
    "        series_temp = pd.concat([df.mean(), df.min(), df.max(), df.std()])\n",
    "        df_temp = pd.DataFrame(series_temp, columns=[idx])\n",
    "\n",
    "        df_processed = pd.concat([df_processed, df_temp], axis=1)\n",
    "\n",
    "    df_processed = df_processed.transpose()\n",
    "\n",
    "    series_mold_no = series_mold_no.dropna().reset_index(drop=True)\n",
    "    df_processed = pd.concat([series_mold_no, df_processed], axis=1)\n",
    "    series_lot_no = series_lot_no.dropna().reset_index(drop=True)\n",
    "    df_processed = pd.concat([series_lot_no, df_processed], axis=1)\n",
    "else:\n",
    "    df_processed = df_mold\n",
    "\n",
    "df_processed"
   ],
   "metadata": {
    "collapsed": false,
    "pycharm": {
     "name": "#%%\n"
    }
   }
  },
  {
   "cell_type": "code",
   "execution_count": 95,
   "outputs": [],
   "source": [],
   "metadata": {
    "collapsed": false,
    "pycharm": {
     "name": "#%%\n"
    }
   }
  }
 ],
 "metadata": {
  "kernelspec": {
   "display_name": "Python 3",
   "language": "python",
   "name": "python3"
  },
  "language_info": {
   "codemirror_mode": {
    "name": "ipython",
    "version": 2
   },
   "file_extension": ".py",
   "mimetype": "text/x-python",
   "name": "python",
   "nbconvert_exporter": "python",
   "pygments_lexer": "ipython2",
   "version": "2.7.6"
  }
 },
 "nbformat": 4,
 "nbformat_minor": 0
}