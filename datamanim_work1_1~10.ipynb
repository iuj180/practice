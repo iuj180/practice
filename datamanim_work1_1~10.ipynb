{
 "cells": [
  {
   "cell_type": "code",
   "execution_count": 2,
   "metadata": {},
   "outputs": [],
   "source": [
    "import pandas as pd\n",
    "import ssl\n",
    "ssl._create_default_https_context = ssl._create_unverified_context"
   ]
  },
  {
   "cell_type": "code",
   "execution_count": 3,
   "metadata": {},
   "outputs": [
    {
     "data": {
      "text/plain": [
       "pandas.core.frame.DataFrame"
      ]
     },
     "execution_count": 3,
     "metadata": {},
     "output_type": "execute_result"
    }
   ],
   "source": [
    "url='https://raw.githubusercontent.com/Datamanim/datarepo/main/youtube/youtube.csv'\n",
    "df=pd.read_csv(url)\n",
    "type(df)"
   ]
  },
  {
   "cell_type": "code",
   "execution_count": 16,
   "metadata": {},
   "outputs": [
    {
     "data": {
      "text/html": [
       "<div>\n",
       "<style scoped>\n",
       "    .dataframe tbody tr th:only-of-type {\n",
       "        vertical-align: middle;\n",
       "    }\n",
       "\n",
       "    .dataframe tbody tr th {\n",
       "        vertical-align: top;\n",
       "    }\n",
       "\n",
       "    .dataframe thead th {\n",
       "        text-align: right;\n",
       "    }\n",
       "</style>\n",
       "<table border=\"1\" class=\"dataframe\">\n",
       "  <thead>\n",
       "    <tr style=\"text-align: right;\">\n",
       "      <th></th>\n",
       "      <th>Unnamed: 0</th>\n",
       "      <th>title</th>\n",
       "      <th>channelTitle</th>\n",
       "      <th>categoryId</th>\n",
       "      <th>view_count</th>\n",
       "      <th>likes</th>\n",
       "      <th>dislikes</th>\n",
       "      <th>comment_count</th>\n",
       "      <th>channelId</th>\n",
       "      <th>trending_date2</th>\n",
       "      <th>ratio</th>\n",
       "      <th>ratio2</th>\n",
       "    </tr>\n",
       "  </thead>\n",
       "  <tbody>\n",
       "    <tr>\n",
       "      <th>0</th>\n",
       "      <td>0</td>\n",
       "      <td>[신병] 물자창고</td>\n",
       "      <td>장삐쭈</td>\n",
       "      <td>23</td>\n",
       "      <td>1893473</td>\n",
       "      <td>38249</td>\n",
       "      <td>730</td>\n",
       "      <td>8595</td>\n",
       "      <td>UChbE5OZQ6dRHECsX0tEPEZQ</td>\n",
       "      <td>2021-01-01</td>\n",
       "      <td>0.004539</td>\n",
       "      <td>0.019085</td>\n",
       "    </tr>\n",
       "    <tr>\n",
       "      <th>1</th>\n",
       "      <td>1</td>\n",
       "      <td>RAIN(비) - 나로 바꾸자 Switch to me (duet with JYP) MV</td>\n",
       "      <td>RAIN's Official Channel</td>\n",
       "      <td>10</td>\n",
       "      <td>2600864</td>\n",
       "      <td>0</td>\n",
       "      <td>0</td>\n",
       "      <td>20129</td>\n",
       "      <td>UCxXgIeE5hxWxHG6dz9Scg2w</td>\n",
       "      <td>2021-01-01</td>\n",
       "      <td>0.007739</td>\n",
       "      <td>NaN</td>\n",
       "    </tr>\n",
       "    <tr>\n",
       "      <th>2</th>\n",
       "      <td>2</td>\n",
       "      <td>2020년 제야의 종 온라인 타종행사 | 보신각 현장 행사는 진행하지 않습니다.</td>\n",
       "      <td>서울시 · Seoul</td>\n",
       "      <td>29</td>\n",
       "      <td>347049</td>\n",
       "      <td>3564</td>\n",
       "      <td>120</td>\n",
       "      <td>178</td>\n",
       "      <td>UCZUPZW5idAxYp-Asj__lVAA</td>\n",
       "      <td>2021-01-01</td>\n",
       "      <td>0.000513</td>\n",
       "      <td>0.033670</td>\n",
       "    </tr>\n",
       "    <tr>\n",
       "      <th>3</th>\n",
       "      <td>3</td>\n",
       "      <td>고기남자의 칠면조 파티</td>\n",
       "      <td>고기남자 MeatMan</td>\n",
       "      <td>26</td>\n",
       "      <td>528458</td>\n",
       "      <td>15372</td>\n",
       "      <td>280</td>\n",
       "      <td>3470</td>\n",
       "      <td>UCT3CumbFIJiW33uq0UI3zlg</td>\n",
       "      <td>2021-01-01</td>\n",
       "      <td>0.006566</td>\n",
       "      <td>0.018215</td>\n",
       "    </tr>\n",
       "    <tr>\n",
       "      <th>4</th>\n",
       "      <td>4</td>\n",
       "      <td>골목 3mc를 분노하게 만든 마음고생이 심했을 공릉 백반집 사장님의 푸념?! [예능...</td>\n",
       "      <td>스브스밥집</td>\n",
       "      <td>24</td>\n",
       "      <td>494904</td>\n",
       "      <td>3918</td>\n",
       "      <td>111</td>\n",
       "      <td>3142</td>\n",
       "      <td>UCdWgRSfttvDucq4ApcCg5Mw</td>\n",
       "      <td>2021-01-01</td>\n",
       "      <td>0.006349</td>\n",
       "      <td>0.028331</td>\n",
       "    </tr>\n",
       "  </tbody>\n",
       "</table>\n",
       "</div>"
      ],
      "text/plain": [
       "   Unnamed: 0                                              title  \\\n",
       "0           0                                          [신병] 물자창고   \n",
       "1           1   RAIN(비) - 나로 바꾸자 Switch to me (duet with JYP) MV   \n",
       "2           2       2020년 제야의 종 온라인 타종행사 | 보신각 현장 행사는 진행하지 않습니다.   \n",
       "3           3                                       고기남자의 칠면조 파티   \n",
       "4           4  골목 3mc를 분노하게 만든 마음고생이 심했을 공릉 백반집 사장님의 푸념?! [예능...   \n",
       "\n",
       "              channelTitle  categoryId  view_count  likes  dislikes  \\\n",
       "0                      장삐쭈          23     1893473  38249       730   \n",
       "1  RAIN's Official Channel          10     2600864      0         0   \n",
       "2              서울시 · Seoul          29      347049   3564       120   \n",
       "3             고기남자 MeatMan          26      528458  15372       280   \n",
       "4                    스브스밥집          24      494904   3918       111   \n",
       "\n",
       "   comment_count                 channelId trending_date2     ratio    ratio2  \n",
       "0           8595  UChbE5OZQ6dRHECsX0tEPEZQ     2021-01-01  0.004539  0.019085  \n",
       "1          20129  UCxXgIeE5hxWxHG6dz9Scg2w     2021-01-01  0.007739       NaN  \n",
       "2            178  UCZUPZW5idAxYp-Asj__lVAA     2021-01-01  0.000513  0.033670  \n",
       "3           3470  UCT3CumbFIJiW33uq0UI3zlg     2021-01-01  0.006566  0.018215  \n",
       "4           3142  UCdWgRSfttvDucq4ApcCg5Mw     2021-01-01  0.006349  0.028331  "
      ]
     },
     "execution_count": 16,
     "metadata": {},
     "output_type": "execute_result"
    }
   ],
   "source": [
    "df.head()"
   ]
  },
  {
   "cell_type": "code",
   "execution_count": 6,
   "metadata": {},
   "outputs": [
    {
     "data": {
      "text/plain": [
       "['장삐쭈',\n",
       " '총몇명',\n",
       " '파뿌리',\n",
       " '짤툰',\n",
       " '런닝맨 - 스브스 공식 채널',\n",
       " '엠뚜루마뚜루 : MBC 공식 종합 채널',\n",
       " 'SPOTV',\n",
       " '채널 십오야',\n",
       " '이과장',\n",
       " 'BANGTANTV']"
      ]
     },
     "execution_count": 6,
     "metadata": {},
     "output_type": "execute_result"
    }
   ],
   "source": [
    "list(df.loc[df.channelId.isin(df.channelId.value_counts().head(10).index)].channelTitle.unique())"
   ]
  },
  {
   "cell_type": "code",
   "execution_count": 26,
   "metadata": {},
   "outputs": [
    {
     "data": {
      "text/plain": [
       "['짤툰',\n",
       " '파뿌리',\n",
       " 'SPOTV',\n",
       " '런닝맨 - 스브스 공식 채널',\n",
       " '엠뚜루마뚜루 : MBC 공식 종합 채널',\n",
       " '장삐쭈',\n",
       " 'BANGTANTV',\n",
       " '채널 십오야',\n",
       " '이과장',\n",
       " '총몇명']"
      ]
     },
     "execution_count": 26,
     "metadata": {},
     "output_type": "execute_result"
    }
   ],
   "source": [
    "list(df.channelTitle.value_counts().head(10).index)"
   ]
  },
  {
   "cell_type": "code",
   "execution_count": 8,
   "metadata": {},
   "outputs": [
    {
     "data": {
      "text/plain": [
       "['핫도그TV',\n",
       " 'ASMR 애정TV',\n",
       " '하얀트리HayanTree',\n",
       " '양팡 YangPang',\n",
       " '철구형 (CHULTUBE)',\n",
       " '왜냐맨하우스',\n",
       " '(MUTUBE)와꾸대장봉준',\n",
       " '오메킴TV',\n",
       " '육지담',\n",
       " 'MapleStory_KR',\n",
       " 'ROAD FIGHTING CHAMPIONSHIP',\n",
       " '사나이 김기훈',\n",
       " '나혼자산다 STUDIO',\n",
       " 'Gen.G esports']"
      ]
     },
     "execution_count": 8,
     "metadata": {},
     "output_type": "execute_result"
    }
   ],
   "source": [
    "list(df.loc[df.dislikes>df.likes].channelTitle.unique())"
   ]
  },
  {
   "cell_type": "code",
   "execution_count": 13,
   "metadata": {},
   "outputs": [
    {
     "data": {
      "text/plain": [
       "71"
      ]
     },
     "execution_count": 13,
     "metadata": {},
     "output_type": "execute_result"
    }
   ],
   "source": [
    "(df[['channelTitle','channelId']].drop_duplicates().channelId.value_counts()>1).sum()"
   ]
  },
  {
   "cell_type": "code",
   "execution_count": 4,
   "metadata": {},
   "outputs": [],
   "source": [
    "df.trending_date2=pd.to_datetime(df.trending_date2)"
   ]
  },
  {
   "cell_type": "code",
   "execution_count": 25,
   "metadata": {},
   "outputs": [
    {
     "data": {
      "text/plain": [
       "24"
      ]
     },
     "execution_count": 25,
     "metadata": {},
     "output_type": "execute_result"
    }
   ],
   "source": [
    "df.loc[df.trending_date2.dt.day_name()=='Sunday'].categoryId.value_counts().index[0]"
   ]
  },
  {
   "cell_type": "code",
   "execution_count": 40,
   "metadata": {},
   "outputs": [
    {
     "data": {
      "text/html": [
       "<div>\n",
       "<style scoped>\n",
       "    .dataframe tbody tr th:only-of-type {\n",
       "        vertical-align: middle;\n",
       "    }\n",
       "\n",
       "    .dataframe tbody tr th {\n",
       "        vertical-align: top;\n",
       "    }\n",
       "\n",
       "    .dataframe thead tr th {\n",
       "        text-align: left;\n",
       "    }\n",
       "\n",
       "    .dataframe thead tr:last-of-type th {\n",
       "        text-align: right;\n",
       "    }\n",
       "</style>\n",
       "<table border=\"1\" class=\"dataframe\">\n",
       "  <thead>\n",
       "    <tr>\n",
       "      <th></th>\n",
       "      <th colspan=\"7\" halign=\"left\">size</th>\n",
       "    </tr>\n",
       "    <tr>\n",
       "      <th>trending_date2</th>\n",
       "      <th>Friday</th>\n",
       "      <th>Monday</th>\n",
       "      <th>Saturday</th>\n",
       "      <th>Sunday</th>\n",
       "      <th>Thursday</th>\n",
       "      <th>Tuesday</th>\n",
       "      <th>Wednesday</th>\n",
       "    </tr>\n",
       "    <tr>\n",
       "      <th>categoryId</th>\n",
       "      <th></th>\n",
       "      <th></th>\n",
       "      <th></th>\n",
       "      <th></th>\n",
       "      <th></th>\n",
       "      <th></th>\n",
       "      <th></th>\n",
       "    </tr>\n",
       "  </thead>\n",
       "  <tbody>\n",
       "    <tr>\n",
       "      <th>1</th>\n",
       "      <td>243</td>\n",
       "      <td>263</td>\n",
       "      <td>255</td>\n",
       "      <td>274</td>\n",
       "      <td>246</td>\n",
       "      <td>257</td>\n",
       "      <td>234</td>\n",
       "    </tr>\n",
       "    <tr>\n",
       "      <th>2</th>\n",
       "      <td>120</td>\n",
       "      <td>105</td>\n",
       "      <td>119</td>\n",
       "      <td>99</td>\n",
       "      <td>128</td>\n",
       "      <td>119</td>\n",
       "      <td>129</td>\n",
       "    </tr>\n",
       "    <tr>\n",
       "      <th>10</th>\n",
       "      <td>833</td>\n",
       "      <td>837</td>\n",
       "      <td>776</td>\n",
       "      <td>830</td>\n",
       "      <td>890</td>\n",
       "      <td>894</td>\n",
       "      <td>917</td>\n",
       "    </tr>\n",
       "    <tr>\n",
       "      <th>15</th>\n",
       "      <td>187</td>\n",
       "      <td>215</td>\n",
       "      <td>198</td>\n",
       "      <td>217</td>\n",
       "      <td>207</td>\n",
       "      <td>208</td>\n",
       "      <td>207</td>\n",
       "    </tr>\n",
       "    <tr>\n",
       "      <th>17</th>\n",
       "      <td>633</td>\n",
       "      <td>668</td>\n",
       "      <td>592</td>\n",
       "      <td>636</td>\n",
       "      <td>682</td>\n",
       "      <td>708</td>\n",
       "      <td>706</td>\n",
       "    </tr>\n",
       "    <tr>\n",
       "      <th>19</th>\n",
       "      <td>90</td>\n",
       "      <td>92</td>\n",
       "      <td>87</td>\n",
       "      <td>91</td>\n",
       "      <td>92</td>\n",
       "      <td>89</td>\n",
       "      <td>85</td>\n",
       "    </tr>\n",
       "    <tr>\n",
       "      <th>20</th>\n",
       "      <td>283</td>\n",
       "      <td>298</td>\n",
       "      <td>296</td>\n",
       "      <td>289</td>\n",
       "      <td>282</td>\n",
       "      <td>285</td>\n",
       "      <td>291</td>\n",
       "    </tr>\n",
       "    <tr>\n",
       "      <th>22</th>\n",
       "      <td>1288</td>\n",
       "      <td>1373</td>\n",
       "      <td>1289</td>\n",
       "      <td>1337</td>\n",
       "      <td>1341</td>\n",
       "      <td>1375</td>\n",
       "      <td>1333</td>\n",
       "    </tr>\n",
       "    <tr>\n",
       "      <th>23</th>\n",
       "      <td>568</td>\n",
       "      <td>594</td>\n",
       "      <td>570</td>\n",
       "      <td>556</td>\n",
       "      <td>560</td>\n",
       "      <td>569</td>\n",
       "      <td>566</td>\n",
       "    </tr>\n",
       "    <tr>\n",
       "      <th>24</th>\n",
       "      <td>2976</td>\n",
       "      <td>3148</td>\n",
       "      <td>3066</td>\n",
       "      <td>3096</td>\n",
       "      <td>2954</td>\n",
       "      <td>3084</td>\n",
       "      <td>3090</td>\n",
       "    </tr>\n",
       "    <tr>\n",
       "      <th>25</th>\n",
       "      <td>444</td>\n",
       "      <td>453</td>\n",
       "      <td>422</td>\n",
       "      <td>437</td>\n",
       "      <td>470</td>\n",
       "      <td>452</td>\n",
       "      <td>468</td>\n",
       "    </tr>\n",
       "    <tr>\n",
       "      <th>26</th>\n",
       "      <td>369</td>\n",
       "      <td>378</td>\n",
       "      <td>364</td>\n",
       "      <td>363</td>\n",
       "      <td>375</td>\n",
       "      <td>394</td>\n",
       "      <td>385</td>\n",
       "    </tr>\n",
       "    <tr>\n",
       "      <th>27</th>\n",
       "      <td>183</td>\n",
       "      <td>205</td>\n",
       "      <td>183</td>\n",
       "      <td>199</td>\n",
       "      <td>194</td>\n",
       "      <td>194</td>\n",
       "      <td>212</td>\n",
       "    </tr>\n",
       "    <tr>\n",
       "      <th>28</th>\n",
       "      <td>171</td>\n",
       "      <td>160</td>\n",
       "      <td>173</td>\n",
       "      <td>167</td>\n",
       "      <td>166</td>\n",
       "      <td>161</td>\n",
       "      <td>165</td>\n",
       "    </tr>\n",
       "    <tr>\n",
       "      <th>29</th>\n",
       "      <td>12</td>\n",
       "      <td>10</td>\n",
       "      <td>10</td>\n",
       "      <td>9</td>\n",
       "      <td>13</td>\n",
       "      <td>11</td>\n",
       "      <td>12</td>\n",
       "    </tr>\n",
       "  </tbody>\n",
       "</table>\n",
       "</div>"
      ],
      "text/plain": [
       "                 size                                                  \n",
       "trending_date2 Friday Monday Saturday Sunday Thursday Tuesday Wednesday\n",
       "categoryId                                                             \n",
       "1                 243    263      255    274      246     257       234\n",
       "2                 120    105      119     99      128     119       129\n",
       "10                833    837      776    830      890     894       917\n",
       "15                187    215      198    217      207     208       207\n",
       "17                633    668      592    636      682     708       706\n",
       "19                 90     92       87     91       92      89        85\n",
       "20                283    298      296    289      282     285       291\n",
       "22               1288   1373     1289   1337     1341    1375      1333\n",
       "23                568    594      570    556      560     569       566\n",
       "24               2976   3148     3066   3096     2954    3084      3090\n",
       "25                444    453      422    437      470     452       468\n",
       "26                369    378      364    363      375     394       385\n",
       "27                183    205      183    199      194     194       212\n",
       "28                171    160      173    167      166     161       165\n",
       "29                 12     10       10      9       13      11        12"
      ]
     },
     "execution_count": 40,
     "metadata": {},
     "output_type": "execute_result"
    }
   ],
   "source": [
    "df.groupby(['categoryId',df.trending_date2.dt.day_name()],as_index=False).size().pivot(index='categoryId', columns='trending_date2')"
   ]
  },
  {
   "cell_type": "code",
   "execution_count": 5,
   "metadata": {},
   "outputs": [
    {
     "data": {
      "text/plain": [
       "'60분 동안 댓글이 달리지 않으면, 영상이 삭제됩니다. (챌린지)'"
      ]
     },
     "execution_count": 5,
     "metadata": {},
     "output_type": "execute_result"
    }
   ],
   "source": [
    "df['ratio']=(df.comment_count/df.view_count)\n",
    "df.loc[(df.view_count!=0) & (df.ratio>0)].sort_values(by='ratio', ascending=False).iloc[0].title"
   ]
  },
  {
   "cell_type": "code",
   "execution_count": 6,
   "metadata": {},
   "outputs": [
    {
     "data": {
      "text/plain": [
       "'Join the BTS #PermissiontoDance Challenge only on YouTube #Shorts'"
      ]
     },
     "execution_count": 6,
     "metadata": {},
     "output_type": "execute_result"
    }
   ],
   "source": [
    "df['ratio']=(df.comment_count/df.view_count)\n",
    "df.loc[(df.view_count!=0) & (df.ratio>0)].sort_values(by='ratio', ascending=True).iloc[0].title"
   ]
  },
  {
   "cell_type": "code",
   "execution_count": 7,
   "metadata": {},
   "outputs": [
    {
     "data": {
      "text/plain": [
       "'[줌터뷰] *최초공개* 사부작즈🐰🐶의 비공식 이름은 아이라인즈? 꿀조합 티키타카 가득한 NCT 127 도영&정우의 줌터뷰'"
      ]
     },
     "execution_count": 7,
     "metadata": {},
     "output_type": "execute_result"
    }
   ],
   "source": [
    "df['ratio2']=(df.dislikes/df.likes)\n",
    "df.loc[(df.dislikes!=0)&(df.likes!=0)].sort_values(by='ratio2').iloc[0].title"
   ]
  },
  {
   "cell_type": "code",
   "execution_count": 8,
   "metadata": {},
   "outputs": [
    {
     "name": "stdout",
     "output_type": "stream",
     "text": [
      "['짤툰']\n"
     ]
    }
   ],
   "source": [
    "print(df.loc[df.channelId==df.channelId.value_counts().index[0]].channelTitle.unique())"
   ]
  },
  {
   "cell_type": "code",
   "execution_count": 9,
   "metadata": {},
   "outputs": [
    {
     "data": {
      "text/plain": [
       "title                                                           channelId               \n",
       "컵라면 먹을 때 절대 일어날리 없는 상황들 ㅋㅋㅋ                                     UCmzMtXrJgfCqA0rfhz8_P4A     True\n",
       "대한민국 VS 투르크메니스탄 : FIFA 카타르 월드컵 2차 예선 하이라이트 - 2021.06.05         UCpjOmwiy88a9EV3Rv8ukJgw     True\n",
       "극과 극을 살고 있는 인도의 갑부와 빈곤층들!                                       UCi9Sl8GnFdYoqEVXnojBPJw     True\n",
       "2주더놀릴예정                                                         UCaKod3X1Tn4c7Ci0iUKcvzQ     True\n",
       "대박... 멧돼지를 아들로 삼은 할아버지｜KBS 주주클럽 050410 방송                       UCAhKKbDO9-ymWZ_7iAFLBQQ     True\n",
       "                                                                                            ...  \n",
       "천재 친구 황봉황 [총몇명 스토리2]                                            UCRuSxVu4iqTK5kCh90ntAgA    False\n",
       "담배충 [병맛더빙/웃긴영상]                                                 UCUK4YjvUvHrFQwTFXwkUIng    False\n",
       "Official Trailer | The Falcon and The Winter Soldier | Disney+  UCvC4D8onUfXzvjTOM-dBfEA    False\n",
       "[월드컵최종예선] 오만 VS 베트남 4차전 H/LㅣAFC 아시아지역 월드컵 최종예선                  UCtybqqaTj6Nx74Azdz1KrsA    False\n",
       "깐부끼리는 니꺼 내꺼가 없는거야                                               UCu9BCtGIEr73LXZsKmoujKw    False\n",
       "Length: 7867, dtype: bool"
      ]
     },
     "execution_count": 9,
     "metadata": {},
     "output_type": "execute_result"
    }
   ],
   "source": [
    "(df[['title','channelId']].value_counts()>=20)"
   ]
  },
  {
   "cell_type": "code",
   "execution_count": null,
   "metadata": {},
   "outputs": [],
   "source": []
  }
 ],
 "metadata": {
  "kernelspec": {
   "display_name": "Python 3.11.0 64-bit",
   "language": "python",
   "name": "python3"
  },
  "language_info": {
   "codemirror_mode": {
    "name": "ipython",
    "version": 3
   },
   "file_extension": ".py",
   "mimetype": "text/x-python",
   "name": "python",
   "nbconvert_exporter": "python",
   "pygments_lexer": "ipython3",
   "version": "3.11.0 (main, Oct 24 2022, 18:26:48) [MSC v.1933 64 bit (AMD64)]"
  },
  "orig_nbformat": 4,
  "vscode": {
   "interpreter": {
    "hash": "de47f5c92c0ee6f12a59a5613ac5feff6aab19ddff207ba0b3964cced08c4ccc"
   }
  }
 },
 "nbformat": 4,
 "nbformat_minor": 2
}
