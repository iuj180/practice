{
 "cells": [
  {
   "cell_type": "code",
   "execution_count": 1,
   "metadata": {},
   "outputs": [],
   "source": [
    "import pyrfc\n",
    "import json\n",
    "import pandas as pd\n",
    "\n",
    "f=open(\"credentials.json\")\n",
    "credentials=json.load(f)\n",
    "\n",
    "with pyrfc.Connection(**credentials) as conn:\n",
    "    fields=[\"WERKS\",\"MATNR\",\"CHARG\",\"LGORT\",\"CLABS\"]\n",
    "    table='MCHB' \n",
    "    Where=['WERKS = 3204 AND LGORT = 2260']\n",
    "    maxrow=10000\n",
    "    fromrow=0\n",
    "\n",
    "    result=conn.call(\"RFC_READ_TABLE\", QUERY_TABLE=table, DELIMITER=',', FIELDS=fields,\n",
    "                                OPTIONS=[{'TEXT': x} for x in Where], ROWCOUNT=maxrow, ROWSKIPS=fromrow)\n",
    "\n",
    "data = []\n",
    "for line in result[\"DATA\"]:\n",
    "    raw_data = line[\"WA\"].strip().split(',')\n",
    "    data.append(raw_data)\n",
    "\n",
    "df = pd.DataFrame(data, columns=fields)  \n",
    "df['MATNR']=pd.to_numeric(df.MATNR) \n",
    "print(df)\n"
   ]
  },
  {
   "cell_type": "code",
   "execution_count": 2,
   "metadata": {},
   "outputs": [
    {
     "data": {
      "text/html": [
       "<div>\n",
       "<style scoped>\n",
       "    .dataframe tbody tr th:only-of-type {\n",
       "        vertical-align: middle;\n",
       "    }\n",
       "\n",
       "    .dataframe tbody tr th {\n",
       "        vertical-align: top;\n",
       "    }\n",
       "\n",
       "    .dataframe thead th {\n",
       "        text-align: right;\n",
       "    }\n",
       "</style>\n",
       "<table border=\"1\" class=\"dataframe\">\n",
       "  <thead>\n",
       "    <tr style=\"text-align: right;\">\n",
       "      <th></th>\n",
       "      <th>WERKS</th>\n",
       "      <th>MATNR</th>\n",
       "      <th>CHARG</th>\n",
       "      <th>LGORT</th>\n",
       "      <th>CLABS</th>\n",
       "    </tr>\n",
       "  </thead>\n",
       "  <tbody>\n",
       "    <tr>\n",
       "      <th>0</th>\n",
       "      <td>3204</td>\n",
       "      <td>000000000006205845</td>\n",
       "      <td>P22C012045</td>\n",
       "      <td>2240</td>\n",
       "      <td>1.000</td>\n",
       "    </tr>\n",
       "    <tr>\n",
       "      <th>1</th>\n",
       "      <td>3204</td>\n",
       "      <td>000000000006219942</td>\n",
       "      <td>P22C012047</td>\n",
       "      <td>2240</td>\n",
       "      <td>1.000</td>\n",
       "    </tr>\n",
       "    <tr>\n",
       "      <th>2</th>\n",
       "      <td>3204</td>\n",
       "      <td>000000000006219736</td>\n",
       "      <td>P22C011050</td>\n",
       "      <td>2240</td>\n",
       "      <td>1.000</td>\n",
       "    </tr>\n",
       "    <tr>\n",
       "      <th>3</th>\n",
       "      <td>3204</td>\n",
       "      <td>000000000006213434</td>\n",
       "      <td>N22C011020</td>\n",
       "      <td>2240</td>\n",
       "      <td>1.000</td>\n",
       "    </tr>\n",
       "    <tr>\n",
       "      <th>4</th>\n",
       "      <td>3204</td>\n",
       "      <td>000000000006219739</td>\n",
       "      <td>P22C011104</td>\n",
       "      <td>2240</td>\n",
       "      <td>1.000</td>\n",
       "    </tr>\n",
       "  </tbody>\n",
       "</table>\n",
       "</div>"
      ],
      "text/plain": [
       "  WERKS               MATNR       CHARG LGORT         CLABS\n",
       "0  3204  000000000006205845  P22C012045  2240         1.000\n",
       "1  3204  000000000006219942  P22C012047  2240         1.000\n",
       "2  3204  000000000006219736  P22C011050  2240         1.000\n",
       "3  3204  000000000006213434  N22C011020  2240         1.000\n",
       "4  3204  000000000006219739  P22C011104  2240         1.000"
      ]
     },
     "execution_count": 2,
     "metadata": {},
     "output_type": "execute_result"
    }
   ],
   "source": [
    "df.head()"
   ]
  },
  {
   "cell_type": "code",
   "execution_count": 3,
   "metadata": {},
   "outputs": [
    {
     "data": {
      "text/plain": [
       "Index(['WERKS', 'MATNR', 'CHARG', 'LGORT', 'CLABS'], dtype='object')"
      ]
     },
     "execution_count": 3,
     "metadata": {},
     "output_type": "execute_result"
    }
   ],
   "source": [
    "df.columns"
   ]
  },
  {
   "cell_type": "code",
   "execution_count": 3,
   "metadata": {},
   "outputs": [
    {
     "ename": "NameError",
     "evalue": "name 'df' is not defined",
     "output_type": "error",
     "traceback": [
      "\u001b[1;31m---------------------------------------------------------------------------\u001b[0m",
      "\u001b[1;31mNameError\u001b[0m                                 Traceback (most recent call last)",
      "Cell \u001b[1;32mIn[3], line 1\u001b[0m\n\u001b[1;32m----> 1\u001b[0m pd\u001b[39m.\u001b[39mto_numeric(df\u001b[39m.\u001b[39mMATNR)\n",
      "\u001b[1;31mNameError\u001b[0m: name 'df' is not defined"
     ]
    }
   ],
   "source": [
    "pd.to_numeric(df.MATNR)"
   ]
  },
  {
   "cell_type": "code",
   "execution_count": 13,
   "metadata": {},
   "outputs": [
    {
     "data": {
      "text/html": [
       "<div>\n",
       "<style scoped>\n",
       "    .dataframe tbody tr th:only-of-type {\n",
       "        vertical-align: middle;\n",
       "    }\n",
       "\n",
       "    .dataframe tbody tr th {\n",
       "        vertical-align: top;\n",
       "    }\n",
       "\n",
       "    .dataframe thead th {\n",
       "        text-align: right;\n",
       "    }\n",
       "</style>\n",
       "<table border=\"1\" class=\"dataframe\">\n",
       "  <thead>\n",
       "    <tr style=\"text-align: right;\">\n",
       "      <th></th>\n",
       "      <th>WERKS</th>\n",
       "      <th>MATNR</th>\n",
       "      <th>CHARG</th>\n",
       "      <th>LGORT</th>\n",
       "      <th>CLABS</th>\n",
       "    </tr>\n",
       "  </thead>\n",
       "  <tbody>\n",
       "    <tr>\n",
       "      <th>0</th>\n",
       "      <td>3204</td>\n",
       "      <td>6205845</td>\n",
       "      <td>P22C012045</td>\n",
       "      <td>2240</td>\n",
       "      <td>1.000</td>\n",
       "    </tr>\n",
       "    <tr>\n",
       "      <th>1</th>\n",
       "      <td>3204</td>\n",
       "      <td>6219942</td>\n",
       "      <td>P22C012047</td>\n",
       "      <td>2240</td>\n",
       "      <td>1.000</td>\n",
       "    </tr>\n",
       "    <tr>\n",
       "      <th>2</th>\n",
       "      <td>3204</td>\n",
       "      <td>6219736</td>\n",
       "      <td>P22C011050</td>\n",
       "      <td>2240</td>\n",
       "      <td>1.000</td>\n",
       "    </tr>\n",
       "    <tr>\n",
       "      <th>3</th>\n",
       "      <td>3204</td>\n",
       "      <td>6213434</td>\n",
       "      <td>N22C011020</td>\n",
       "      <td>2240</td>\n",
       "      <td>1.000</td>\n",
       "    </tr>\n",
       "    <tr>\n",
       "      <th>4</th>\n",
       "      <td>3204</td>\n",
       "      <td>6219739</td>\n",
       "      <td>P22C011104</td>\n",
       "      <td>2240</td>\n",
       "      <td>1.000</td>\n",
       "    </tr>\n",
       "  </tbody>\n",
       "</table>\n",
       "</div>"
      ],
      "text/plain": [
       "  WERKS    MATNR       CHARG LGORT         CLABS\n",
       "0  3204  6205845  P22C012045  2240         1.000\n",
       "1  3204  6219942  P22C012047  2240         1.000\n",
       "2  3204  6219736  P22C011050  2240         1.000\n",
       "3  3204  6213434  N22C011020  2240         1.000\n",
       "4  3204  6219739  P22C011104  2240         1.000"
      ]
     },
     "execution_count": 13,
     "metadata": {},
     "output_type": "execute_result"
    }
   ],
   "source": [
    "df.head()"
   ]
  },
  {
   "cell_type": "code",
   "execution_count": 43,
   "metadata": {},
   "outputs": [
    {
     "data": {
      "text/plain": [
       "WERKS  MATNR  \n",
       "3204   2014370       40537.000    2500.000    2500.000    2500.0...\n",
       "       2100195         2000.000    2000.000    2000.000    2000.000\n",
       "       2122902        5000.000    5000.000    5000.000    5000.0...\n",
       "       2123515         1500.000    1500.000    1500.000    1500.000\n",
       "       2123617        1500.000    1500.000    1500.000    1500.0...\n",
       "                                        ...                        \n",
       "       8613715                                    1.000       1.000\n",
       "       8613716           1.000       1.000       1.000       1.0...\n",
       "       8613717                                                1.000\n",
       "       8613718                                                1.000\n",
       "       8613719                        1.000       1.000       1.000\n",
       "Name: CLABS, Length: 328, dtype: object"
      ]
     },
     "execution_count": 43,
     "metadata": {},
     "output_type": "execute_result"
    }
   ],
   "source": []
  },
  {
   "cell_type": "code",
   "execution_count": null,
   "metadata": {},
   "outputs": [],
   "source": []
  }
 ],
 "metadata": {
  "kernelspec": {
   "display_name": "Python 3",
   "language": "python",
   "name": "python3"
  },
  "language_info": {
   "codemirror_mode": {
    "name": "ipython",
    "version": 3
   },
   "file_extension": ".py",
   "mimetype": "text/x-python",
   "name": "python",
   "nbconvert_exporter": "python",
   "pygments_lexer": "ipython3",
   "version": "3.10.9"
  },
  "orig_nbformat": 4,
  "vscode": {
   "interpreter": {
    "hash": "de47f5c92c0ee6f12a59a5613ac5feff6aab19ddff207ba0b3964cced08c4ccc"
   }
  }
 },
 "nbformat": 4,
 "nbformat_minor": 2
}
