{
 "cells": [
  {
   "attachments": {},
   "cell_type": "markdown",
   "metadata": {},
   "source": [
    "22회\n",
    "\n",
    "금속 성분 함유량 데이터(변수 1개) - 제품에 금속 재질 함유량의 분산이 1.3을 넘으면 불량이라고 보고 있는데 제조사별로 차이가 난다고 제보를 받았다. 분산에 대해 검정을 수행하시오. (유의확률 0.05)\n",
    "\n",
    "1 연구가설과 귀무가설 작성\n",
    "\n",
    "2 양측 검정 시행\n",
    "\n",
    "3 검정통계량, 가설채택"
   ]
  },
  {
   "cell_type": "code",
   "execution_count": 2,
   "metadata": {},
   "outputs": [
    {
     "data": {
      "text/html": [
       "<div>\n",
       "<style scoped>\n",
       "    .dataframe tbody tr th:only-of-type {\n",
       "        vertical-align: middle;\n",
       "    }\n",
       "\n",
       "    .dataframe tbody tr th {\n",
       "        vertical-align: top;\n",
       "    }\n",
       "\n",
       "    .dataframe thead th {\n",
       "        text-align: right;\n",
       "    }\n",
       "</style>\n",
       "<table border=\"1\" class=\"dataframe\">\n",
       "  <thead>\n",
       "    <tr style=\"text-align: right;\">\n",
       "      <th></th>\n",
       "      <th>content</th>\n",
       "    </tr>\n",
       "  </thead>\n",
       "  <tbody>\n",
       "    <tr>\n",
       "      <th>0</th>\n",
       "      <td>97.995295</td>\n",
       "    </tr>\n",
       "    <tr>\n",
       "      <th>1</th>\n",
       "      <td>101.478315</td>\n",
       "    </tr>\n",
       "    <tr>\n",
       "      <th>2</th>\n",
       "      <td>102.284913</td>\n",
       "    </tr>\n",
       "    <tr>\n",
       "      <th>3</th>\n",
       "      <td>98.993634</td>\n",
       "    </tr>\n",
       "    <tr>\n",
       "      <th>4</th>\n",
       "      <td>104.635232</td>\n",
       "    </tr>\n",
       "  </tbody>\n",
       "</table>\n",
       "</div>"
      ],
      "text/plain": [
       "      content\n",
       "0   97.995295\n",
       "1  101.478315\n",
       "2  102.284913\n",
       "3   98.993634\n",
       "4  104.635232"
      ]
     },
     "execution_count": 2,
     "metadata": {},
     "output_type": "execute_result"
    }
   ],
   "source": [
    "import pandas as pd\n",
    "import ssl\n",
    "ssl._create_default_https_context = ssl._create_unverified_context\n",
    "\n",
    "df= pd.read_csv('https://raw.githubusercontent.com/Datamanim/datarepo/main/adp/22/content.csv')\n",
    "df.head()"
   ]
  },
  {
   "cell_type": "code",
   "execution_count": null,
   "metadata": {},
   "outputs": [],
   "source": [
    "import numpy as np\n",
    "from scipy import stats\n",
    "\n",
    "def chi_var_test(x, var0, alternative='two-sided'):\n",
    "    lenth = len(x)\n",
    "    chi_stat = (lenth-1) * np.var(x, ddof=1) / var0\n",
    "    \n",
    "    temp = stats.chi2.cdf(chi_stat, lenth-1)\n",
    "    if alternative == 'two-sided':\n",
    "        pval = 2*(1-temp) if temp > 0.5 else 2*temp\n",
    "    elif alternative == 'greater':\n",
    "        pval = 1 - temp\n",
    "    elif alternative == 'less':\n",
    "        pval = temp\n",
    "    else:\n",
    "        print(\"ERROR\")\n",
    "        \n",
    "    return chi_stat, pval\n",
    "\n",
    "\n",
    "# 1. 귀무가설 : 분산은 1.3이다. / 연구가설 : 분산은 1.3이 아니다\n",
    "\n",
    "# 2. 양측 검정 시행\n",
    "chi_stat, p_val = chi_var_test(df['content'], var0=1.3, alternative='two-sided')\n",
    "print('p-value ',p_val)\n",
    "print('statics ',chi_stat)\n",
    "\n",
    "# 3. 검정통계량\n",
    "# p-value는 4.2e-8로 유의수준 0.05수준에서 귀무가설을 기각하고 연구가설을 채택한다."
   ]
  },
  {
   "attachments": {},
   "cell_type": "markdown",
   "metadata": {},
   "source": [
    "22회\n",
    "\n",
    "Lot별 200개에 대한 불량 제품 수량 데이터(변수 2개 - lot번호, 불량제품수)\n",
    "\n",
    "1 불량률 관리도에 따라 관리중심선(CL : Center Line), 관리 상한선(UCL : Upper Control Limit), 하한선(LCL : Lower Control Limit) 구하기\n",
    "\n",
    "2 관리도 시각화"
   ]
  },
  {
   "cell_type": "code",
   "execution_count": 3,
   "metadata": {},
   "outputs": [
    {
     "data": {
      "text/html": [
       "<div>\n",
       "<style scoped>\n",
       "    .dataframe tbody tr th:only-of-type {\n",
       "        vertical-align: middle;\n",
       "    }\n",
       "\n",
       "    .dataframe tbody tr th {\n",
       "        vertical-align: top;\n",
       "    }\n",
       "\n",
       "    .dataframe thead th {\n",
       "        text-align: right;\n",
       "    }\n",
       "</style>\n",
       "<table border=\"1\" class=\"dataframe\">\n",
       "  <thead>\n",
       "    <tr style=\"text-align: right;\">\n",
       "      <th></th>\n",
       "      <th>iot_number</th>\n",
       "      <th>error_case_number</th>\n",
       "    </tr>\n",
       "  </thead>\n",
       "  <tbody>\n",
       "    <tr>\n",
       "      <th>0</th>\n",
       "      <td>1</td>\n",
       "      <td>4.5</td>\n",
       "    </tr>\n",
       "    <tr>\n",
       "      <th>1</th>\n",
       "      <td>2</td>\n",
       "      <td>2.5</td>\n",
       "    </tr>\n",
       "    <tr>\n",
       "      <th>2</th>\n",
       "      <td>3</td>\n",
       "      <td>2.0</td>\n",
       "    </tr>\n",
       "    <tr>\n",
       "      <th>3</th>\n",
       "      <td>4</td>\n",
       "      <td>3.0</td>\n",
       "    </tr>\n",
       "    <tr>\n",
       "      <th>4</th>\n",
       "      <td>5</td>\n",
       "      <td>0.5</td>\n",
       "    </tr>\n",
       "  </tbody>\n",
       "</table>\n",
       "</div>"
      ],
      "text/plain": [
       "   iot_number  error_case_number\n",
       "0           1                4.5\n",
       "1           2                2.5\n",
       "2           3                2.0\n",
       "3           4                3.0\n",
       "4           5                0.5"
      ]
     },
     "execution_count": 3,
     "metadata": {},
     "output_type": "execute_result"
    }
   ],
   "source": [
    "import pandas as pd\n",
    "import ssl\n",
    "ssl._create_default_https_context = ssl._create_unverified_context\n",
    "\n",
    "df= pd.read_csv('https://raw.githubusercontent.com/Datamanim/datarepo/main/adp/22/error.csv')\n",
    "df.head()"
   ]
  },
  {
   "cell_type": "code",
   "execution_count": 4,
   "metadata": {},
   "outputs": [
    {
     "name": "stdout",
     "output_type": "stream",
     "text": [
      "cl :  1.705 ucl :  6.6792290403091155 lcl :  -3.2692290403091153\n"
     ]
    },
    {
     "data": {
      "image/png": "[encoded data removed]",
      "text/plain": [
       "<Figure size 640x480 with 1 Axes>"
      ]
     },
     "metadata": {},
     "output_type": "display_data"
    }
   ],
   "source": [
    "# 1. 3시그마를 기준으로 상한 하한선을 선정\n",
    "\n",
    "df['error_case_number'] = df['error_case_number']/200*100\n",
    "\n",
    "mean =df['error_case_number'].mean()\n",
    "ucl = mean + df['error_case_number'].std()*3\n",
    "lcl = mean - df['error_case_number'].std()*3\n",
    "\n",
    "print('cl : ',mean,'ucl : ',ucl,'lcl : ',lcl)\n",
    "\n",
    "\n",
    "# 2. 관리도 시각화\n",
    "\n",
    "import matplotlib.pyplot as plt\n",
    "plt.plot(df['error_case_number'])\n",
    "plt.axhline(y=ucl, color='r', linestyle='--',label='Upper')\n",
    "plt.axhline(y=lcl, color='y', linestyle='--',label='Lower')\n",
    "plt.axhline(y=mean, color='b',label=\"Mean\")\n",
    "plt.legend()\n",
    "plt.ylabel('error ratio')\n",
    "plt.xlabel('iot id')\n",
    "plt.show()"
   ]
  },
  {
   "cell_type": "code",
   "execution_count": 5,
   "metadata": {},
   "outputs": [
    {
     "data": {
      "text/plain": [
       "1.705"
      ]
     },
     "execution_count": 5,
     "metadata": {},
     "output_type": "execute_result"
    }
   ],
   "source": [
    "mean"
   ]
  },
  {
   "cell_type": "code",
   "execution_count": null,
   "metadata": {},
   "outputs": [],
   "source": []
  }
 ],
 "metadata": {
  "kernelspec": {
   "display_name": "py310",
   "language": "python",
   "name": "python3"
  },
  "language_info": {
   "codemirror_mode": {
    "name": "ipython",
    "version": 3
   },
   "file_extension": ".py",
   "mimetype": "text/x-python",
   "name": "python",
   "nbconvert_exporter": "python",
   "pygments_lexer": "ipython3",
   "version": "3.10.10"
  },
  "orig_nbformat": 4
 },
 "nbformat": 4,
 "nbformat_minor": 2
}
