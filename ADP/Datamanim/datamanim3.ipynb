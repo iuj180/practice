{
 "cells": [
  {
   "cell_type": "code",
   "execution_count": null,
   "metadata": {},
   "outputs": [],
   "source": [
    "import pandas as pd"
   ]
  },
  {
   "cell_type": "code",
   "execution_count": 36,
   "metadata": {},
   "outputs": [
    {
     "data": {
      "text/plain": [
       "pandas.core.frame.DataFrame"
      ]
     },
     "execution_count": 36,
     "metadata": {},
     "output_type": "execute_result"
    }
   ],
   "source": [
    "DataUrl='https://raw.githubusercontent.com/Datamanim/pandas/main/BankChurnersUp.csv'\n",
    "df=pd.read_csv(DataUrl, index_col=0)\n",
    "type(df)"
   ]
  },
  {
   "cell_type": "code",
   "execution_count": null,
   "metadata": {},
   "outputs": [],
   "source": [
    "df.shape"
   ]
  },
  {
   "cell_type": "code",
   "execution_count": null,
   "metadata": {},
   "outputs": [],
   "source": [
    "Dic={\n",
    "    'Unknown':'N',\n",
    "    'Less than $40K':'a', \n",
    "    '$40K - $60K': 'b',\n",
    "    '$60K - $80K': 'c',\n",
    "    '$80K - $120K': 'd',\n",
    "    '$120K +': 'e'\n",
    "}\n",
    "df['newIncome']=df.Income_Category.map(lambda x: Dic[x])\n",
    "df.newIncome.head()"
   ]
  },
  {
   "cell_type": "code",
   "execution_count": null,
   "metadata": {},
   "outputs": [],
   "source": [
    "Dic={\n",
    "    'Unknown':'N',\n",
    "    'Less than $40K':'a', \n",
    "    '$40K - $60K': 'b',\n",
    "    '$60K - $80K': 'c',\n",
    "    '$80K - $120K': 'd',\n",
    "    '$120K +': 'e'\n",
    "}\n",
    "df['newIncome']=df['Income_Category'].map(Dic)\n",
    "df.newIncome.head()"
   ]
  },
  {
   "cell_type": "code",
   "execution_count": null,
   "metadata": {},
   "outputs": [],
   "source": [
    "Dic={\n",
    "    'Unknown':'N',\n",
    "    'Less than $40K':'a', \n",
    "    '$40K - $60K': 'b',\n",
    "    '$60K - $80K': 'c',\n",
    "    '$80K - $120K': 'd',\n",
    "    '$120K +': 'e'\n",
    "}\n",
    "def Income_mapper(x):\n",
    "    return Dic[x]\n",
    "\n",
    "df['Income_Category'].apply(Income_mapper)"
   ]
  },
  {
   "cell_type": "code",
   "execution_count": null,
   "metadata": {},
   "outputs": [],
   "source": [
    "def ChangeCategory(x):\n",
    "    if x=='Unknown':\n",
    "        return 'N'\n",
    "    elif x=='Less than $40K':\n",
    "        return 'a'\n",
    "    elif x=='$40K - $60K':\n",
    "        return 'b'\n",
    "    elif x=='$60K - $80K':\n",
    "        return 'c'\n",
    "    elif x=='$80K - $120K':\n",
    "        return 'd'\n",
    "    elif x=='$120 +':\n",
    "        return 'e'\n",
    "df.Income_Category.apply(ChangeCategory)"
   ]
  },
  {
   "cell_type": "code",
   "execution_count": null,
   "metadata": {},
   "outputs": [],
   "source": [
    "df.head()"
   ]
  },
  {
   "cell_type": "code",
   "execution_count": null,
   "metadata": {},
   "outputs": [],
   "source": [
    "df['AgeState']=df.Customer_Age.map(lambda x: x//10*10)\n",
    "df.AgeState.value_counts().sort_index()"
   ]
  },
  {
   "cell_type": "code",
   "execution_count": null,
   "metadata": {},
   "outputs": [],
   "source": [
    "df.Education_Level.unique()"
   ]
  },
  {
   "cell_type": "code",
   "execution_count": null,
   "metadata": {},
   "outputs": [],
   "source": [
    "df['newEduLevel']=df.Education_Level.map(lambda x:1 if 'Graduate' in x else 0)\n",
    "df.newEduLevel.value_counts()"
   ]
  },
  {
   "cell_type": "code",
   "execution_count": null,
   "metadata": {},
   "outputs": [],
   "source": [
    "def newEdu(x):\n",
    "    if 'Graduate' in x:\n",
    "        return 1\n",
    "    else:\n",
    "        return 0\n",
    "\n",
    "df['newEduLevel']=df.Education_Level.apply(newEdu)\n",
    "df.newEduLevel.value_counts()\n"
   ]
  },
  {
   "cell_type": "code",
   "execution_count": null,
   "metadata": {},
   "outputs": [],
   "source": [
    "df['newLimit']=df.Credit_Limit.map(lambda x:1 if x>=4500 else 0)\n",
    "df.newLimit.value_counts()"
   ]
  },
  {
   "cell_type": "code",
   "execution_count": null,
   "metadata": {},
   "outputs": [],
   "source": [
    "def newCredit(x):\n",
    "    if x>=4500:\n",
    "        return 1\n",
    "    else:\n",
    "        return 0\n",
    "\n",
    "df['newLimit']=df.Credit_Limit.apply(newCredit)\n",
    "df.newLimit.value_counts()"
   ]
  },
  {
   "cell_type": "code",
   "execution_count": null,
   "metadata": {},
   "outputs": [],
   "source": [
    "df.Marital_Status.unique()"
   ]
  },
  {
   "cell_type": "code",
   "execution_count": null,
   "metadata": {},
   "outputs": [],
   "source": [
    "df.Card_Category.unique()"
   ]
  },
  {
   "cell_type": "code",
   "execution_count": null,
   "metadata": {},
   "outputs": [],
   "source": [
    "def newSt(x):\n",
    "    if x['Marital_Status']=='Married' and x['Card_Category']=='Platinum':\n",
    "        return 1\n",
    "    else:\n",
    "        return 0\n",
    "\n",
    "df['newState']=df[['Marital_Status','Card_Category']].apply(newSt, axis=1)\n",
    "df.newState.value_counts()"
   ]
  },
  {
   "cell_type": "code",
   "execution_count": null,
   "metadata": {},
   "outputs": [],
   "source": [
    "df.head()"
   ]
  },
  {
   "cell_type": "code",
   "execution_count": 34,
   "metadata": {},
   "outputs": [
    {
     "data": {
      "text/plain": [
       "female    5358\n",
       "male      4769\n",
       "Name: Gender, dtype: int64"
      ]
     },
     "execution_count": 34,
     "metadata": {},
     "output_type": "execute_result"
    }
   ],
   "source": [
    "df['Gender']=df.Gender.map(lambda x:'male' if x=='M' else 'female')\n",
    "df.Gender.value_counts()"
   ]
  },
  {
   "cell_type": "code",
   "execution_count": 37,
   "metadata": {},
   "outputs": [
    {
     "data": {
      "text/plain": [
       "female    5358\n",
       "male      4769\n",
       "Name: Gender, dtype: int64"
      ]
     },
     "execution_count": 37,
     "metadata": {},
     "output_type": "execute_result"
    }
   ],
   "source": [
    "def changeGender(x):\n",
    "    if x=='M':\n",
    "        return 'male'\n",
    "    else:\n",
    "        return 'female'\n",
    "df['Gender']=df.Gender.apply(changeGender)\n",
    "df.Gender.value_counts()"
   ]
  },
  {
   "cell_type": "code",
   "execution_count": null,
   "metadata": {},
   "outputs": [],
   "source": []
  }
 ],
 "metadata": {
  "kernelspec": {
   "display_name": "Python 3.8.6 64-bit",
   "language": "python",
   "name": "python3"
  },
  "language_info": {
   "codemirror_mode": {
    "name": "ipython",
    "version": 3
   },
   "file_extension": ".py",
   "mimetype": "text/x-python",
   "name": "python",
   "nbconvert_exporter": "python",
   "pygments_lexer": "ipython3",
   "version": "3.8.6"
  },
  "orig_nbformat": 4,
  "vscode": {
   "interpreter": {
    "hash": "6a926afa313b26ae1264fdcf81c726a97e69f6ba2ba780f6aa901948710f8d6e"
   }
  }
 },
 "nbformat": 4,
 "nbformat_minor": 2
}
