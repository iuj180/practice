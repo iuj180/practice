{
 "cells": [
  {
   "attachments": {},
   "cell_type": "markdown",
   "id": "a78a5f0f",
   "metadata": {},
   "source": [
    "## 빅분기 실기 스터디 시험 문제 "
   ]
  },
  {
   "attachments": {},
   "cell_type": "markdown",
   "id": "c622be37",
   "metadata": {},
   "source": [
    "###### 5월 2일 진도: 프로그램 소개 및 설치, 인덱싱, 조건문, For문\n",
    "\n",
    "###### 주의 사항: 인터넷 검색이나 책 도움 없이 직접 코딩 해 보세요. 도움말은 사용 가능 합니다. "
   ]
  },
  {
   "attachments": {},
   "cell_type": "markdown",
   "id": "156c76c7",
   "metadata": {},
   "source": []
  },
  {
   "attachments": {},
   "cell_type": "markdown",
   "id": "a72bc5f6",
   "metadata": {},
   "source": [
    "#### 1. 주피터 노트북에서 셀을 실행하는 방법은 무엇인가요? 셀을 실행하고 새로운 셀을 만드는 명령어와 구분해서 설명해 주세요. "
   ]
  },
  {
   "attachments": {},
   "cell_type": "markdown",
   "id": "e9eed74c",
   "metadata": {},
   "source": []
  },
  {
   "attachments": {},
   "cell_type": "markdown",
   "id": "4c332de6",
   "metadata": {},
   "source": [
    "#### 2. 다음과 같은 문자열이 주어졌을 때, 문자열의 길이를 출력하는 코드를 작성하시오 \n",
    "string = \"Hello, world!\""
   ]
  },
  {
   "cell_type": "code",
   "execution_count": 2,
   "id": "ed03d58f",
   "metadata": {},
   "outputs": [
    {
     "data": {
      "text/plain": [
       "13"
      ]
     },
     "execution_count": 2,
     "metadata": {},
     "output_type": "execute_result"
    }
   ],
   "source": [
    "string = \"Hello, world!\"\n",
    "len(string)"
   ]
  },
  {
   "cell_type": "code",
   "execution_count": 1,
   "id": "447ee013",
   "metadata": {},
   "outputs": [
    {
     "name": "stdout",
     "output_type": "stream",
     "text": [
      "13\n"
     ]
    }
   ],
   "source": []
  },
  {
   "attachments": {},
   "cell_type": "markdown",
   "id": "3a7d2429",
   "metadata": {},
   "source": [
    "#### 3. 다음과 같은 문자열이 주어졌을 때, 문자열에 \"apple\"이라는 단어가 포함되어 있는지 확인하는 코드를 작성하시오. \n",
    "\n",
    "string = \"I have a pen, I have a apple. Uh! Apple pen.\""
   ]
  },
  {
   "cell_type": "code",
   "execution_count": 1,
   "id": "904c091f",
   "metadata": {},
   "outputs": [
    {
     "name": "stdout",
     "output_type": "stream",
     "text": [
      "문자열 안에 apple이 포함되어 있습니다.\n"
     ]
    }
   ],
   "source": [
    "string = \"I have a pen, I have a apple. Uh! Apple pen.\"\n",
    "answer = \"문자열 안에 apple이 포함되어 있습니다.\" if string.index('apple')>0 else 'apple이 포함되어 있지 않습니다.'\n",
    "print(answer)"
   ]
  },
  {
   "cell_type": "code",
   "execution_count": 2,
   "id": "d644ed4c",
   "metadata": {},
   "outputs": [
    {
     "name": "stdout",
     "output_type": "stream",
     "text": [
      "문자열 안에 apple이 포함되어 있습니다. \n"
     ]
    }
   ],
   "source": []
  },
  {
   "attachments": {},
   "cell_type": "markdown",
   "id": "5cd8db0e",
   "metadata": {},
   "source": [
    "#### 4. 다음과 같은 리스트가 주어졌을 때, 리스트에서 최소값과 최대값을 출력하는 코드를 작성하세요. \n",
    "\n",
    "numbers = [3,1,4,1,5,9,2,6,5,3,5]"
   ]
  },
  {
   "cell_type": "code",
   "execution_count": 3,
   "id": "6c682aaa",
   "metadata": {},
   "outputs": [
    {
     "name": "stdout",
     "output_type": "stream",
     "text": [
      "최대값 9\n",
      "최소값 1\n"
     ]
    }
   ],
   "source": [
    "numbers = [3,1,4,1,5,9,2,6,5,3,5]\n",
    "print('최대값', max(numbers))\n",
    "print('최소값', min(numbers))"
   ]
  },
  {
   "cell_type": "code",
   "execution_count": 1,
   "id": "e8e23843",
   "metadata": {},
   "outputs": [
    {
     "name": "stdout",
     "output_type": "stream",
     "text": [
      "최대값 9\n",
      "최소값 1\n"
     ]
    }
   ],
   "source": []
  },
  {
   "attachments": {},
   "cell_type": "markdown",
   "id": "594614aa",
   "metadata": {},
   "source": [
    "#### 5. 다음 리스트를 오름차순으로 정렬하시오. \n",
    "\n",
    "numbers = [3,1,4,1,5,9,2,6,5,3,5]"
   ]
  },
  {
   "cell_type": "code",
   "execution_count": 6,
   "metadata": {},
   "outputs": [
    {
     "name": "stdout",
     "output_type": "stream",
     "text": [
      "[1, 1, 2, 3, 3, 4, 5, 5, 5, 6, 9]\n"
     ]
    }
   ],
   "source": [
    "numbers.sort()\n",
    "print(numbers)"
   ]
  },
  {
   "cell_type": "code",
   "execution_count": 4,
   "id": "9d7683f3",
   "metadata": {},
   "outputs": [
    {
     "name": "stdout",
     "output_type": "stream",
     "text": [
      "[1, 1, 2, 3, 3, 4, 5, 5, 5, 6, 9]\n"
     ]
    }
   ],
   "source": []
  },
  {
   "attachments": {},
   "cell_type": "markdown",
   "id": "46e81e8e",
   "metadata": {},
   "source": [
    "#### 6. 다음 리스트의 인덱스가 홀수인 요소들을 제거하시오.\n",
    "    fruits = [\"apple\", \"banana\", \"cherry\", \"durian\", \"elderberry\"]"
   ]
  },
  {
   "cell_type": "code",
   "execution_count": 12,
   "id": "97b329d9",
   "metadata": {},
   "outputs": [
    {
     "name": "stdout",
     "output_type": "stream",
     "text": [
      "['apple', 'cherry', 'elderberry']\n"
     ]
    }
   ],
   "source": [
    "fruits = [\"apple\", \"banana\", \"cherry\", \"durian\", \"elderberry\"]\n",
    "print(fruits[::2])"
   ]
  },
  {
   "cell_type": "code",
   "execution_count": 7,
   "id": "dd59a1e6",
   "metadata": {},
   "outputs": [
    {
     "name": "stdout",
     "output_type": "stream",
     "text": [
      "['apple', 'cherry', 'elderberry']\n"
     ]
    }
   ],
   "source": []
  },
  {
   "attachments": {},
   "cell_type": "markdown",
   "id": "d7d96c5a",
   "metadata": {},
   "source": [
    "#### 7. 다음과 같은 튜플이 주어졌을 때, 튜플의 길이를 출력하는 코드를 작성하시오. \n",
    "\n",
    "my_tuple = (\"apple\", \"banana\", \"cherry\", \"durian\", \"elderberry\")"
   ]
  },
  {
   "cell_type": "code",
   "execution_count": 15,
   "id": "6e43a05e",
   "metadata": {},
   "outputs": [
    {
     "data": {
      "text/plain": [
       "5"
      ]
     },
     "execution_count": 15,
     "metadata": {},
     "output_type": "execute_result"
    }
   ],
   "source": [
    "my_tuple = (\"apple\", \"banana\", \"cherry\", \"durian\", \"elderberry\")\n",
    "len(my_tuple)"
   ]
  },
  {
   "cell_type": "code",
   "execution_count": 9,
   "id": "f238984a",
   "metadata": {},
   "outputs": [
    {
     "name": "stdout",
     "output_type": "stream",
     "text": [
      "5\n"
     ]
    }
   ],
   "source": []
  },
  {
   "attachments": {},
   "cell_type": "markdown",
   "id": "291b49a7",
   "metadata": {},
   "source": [
    "#### 8. 튜플에서 인덱스가 2부터 4까지 요소들을 슬라이싱하는 코드를 작성하시오. \n",
    "my_tuple = (\"apple\", \"banana\", \"cherry\", \"durian\", \"elderberry\")"
   ]
  },
  {
   "cell_type": "code",
   "execution_count": 15,
   "id": "fb1c3c08",
   "metadata": {},
   "outputs": [
    {
     "data": {
      "text/plain": [
       "('cherry', 'durian', 'elderberry')"
      ]
     },
     "execution_count": 15,
     "metadata": {},
     "output_type": "execute_result"
    }
   ],
   "source": [
    "my_tuple = (\"apple\", \"banana\", \"cherry\", \"durian\", \"elderberry\")\n",
    "my_tuple[2:5]"
   ]
  },
  {
   "cell_type": "code",
   "execution_count": 10,
   "id": "39c51325",
   "metadata": {},
   "outputs": [
    {
     "name": "stdout",
     "output_type": "stream",
     "text": [
      "('cherry', 'durian', 'elderberry')\n"
     ]
    }
   ],
   "source": []
  },
  {
   "attachments": {},
   "cell_type": "markdown",
   "id": "9d26445b",
   "metadata": {},
   "source": [
    "#### 9. 하기 튜플에 \"fig\"를 추가하시오. \n",
    "my_tuple = (\"apple\", \"banana\", \"cherry\", \"durian\", \"elderberry\")"
   ]
  },
  {
   "cell_type": "code",
   "execution_count": 54,
   "id": "6c41c41b",
   "metadata": {},
   "outputs": [
    {
     "name": "stdout",
     "output_type": "stream",
     "text": [
      "('apple', 'banana', 'cherry', 'durian', 'elderberry', 'fig')\n"
     ]
    }
   ],
   "source": [
    "my_tuple = (\"apple\", \"banana\", \"cherry\", \"durian\", \"elderberry\")\n",
    "my_tuple_list = list(my_tuple)\n",
    "my_tuple_list.append('fig')\n",
    "my_tuple = tuple(my_tuple_list)\n",
    "print(my_tuple)"
   ]
  },
  {
   "cell_type": "code",
   "execution_count": 13,
   "id": "749394a2",
   "metadata": {},
   "outputs": [
    {
     "name": "stdout",
     "output_type": "stream",
     "text": [
      "('apple', 'banana', 'cherry', 'durian', 'elderberry', 'fig')\n"
     ]
    }
   ],
   "source": []
  },
  {
   "attachments": {},
   "cell_type": "markdown",
   "id": "3da040e4",
   "metadata": {},
   "source": [
    "#### 10. \twhile문을 사용하여 1부터 10까지의 정수 중 짝수만 출력하는 코드를 작성하시오."
   ]
  },
  {
   "cell_type": "code",
   "execution_count": 30,
   "id": "07729ea9",
   "metadata": {},
   "outputs": [
    {
     "name": "stdout",
     "output_type": "stream",
     "text": [
      "2\n",
      "4\n",
      "6\n",
      "8\n",
      "10\n"
     ]
    }
   ],
   "source": [
    "x = 0\n",
    "while x<=10:\n",
    "    x = x + 1\n",
    "    if x%2 == 1:\n",
    "        continue\n",
    "    print(x)\n"
   ]
  },
  {
   "cell_type": "code",
   "execution_count": 15,
   "id": "836e8bf8",
   "metadata": {},
   "outputs": [
    {
     "name": "stdout",
     "output_type": "stream",
     "text": [
      "2\n",
      "4\n",
      "6\n",
      "8\n",
      "10\n"
     ]
    }
   ],
   "source": []
  },
  {
   "attachments": {},
   "cell_type": "markdown",
   "id": "3c024369",
   "metadata": {},
   "source": [
    "#### 11.for문을 사용하여 다음 리스트의 요소를 모두 출력하는 코드를 작성하시오!\n",
    "my_list = [1, 2, 3, 4, 5]"
   ]
  },
  {
   "cell_type": "code",
   "execution_count": 16,
   "id": "84e23f2c",
   "metadata": {},
   "outputs": [
    {
     "name": "stdout",
     "output_type": "stream",
     "text": [
      "1\n",
      "2\n",
      "3\n",
      "4\n",
      "5\n"
     ]
    }
   ],
   "source": []
  },
  {
   "attachments": {},
   "cell_type": "markdown",
   "id": "d7bab1f2",
   "metadata": {},
   "source": [
    "#### 12. if문을 사용하여 숫자를 입력받아 입력한 숫자가 5보다 크면 \"입력한 숫자는 5보다 큽니다.\" 를 출력하고, 5보다 작으면 \"입력한 숫자는 5보다 작습니다.\" 를 출력하는 코드를 작성하시오"
   ]
  },
  {
   "cell_type": "code",
   "execution_count": 17,
   "id": "0ce45beb",
   "metadata": {},
   "outputs": [
    {
     "name": "stdout",
     "output_type": "stream",
     "text": [
      "숫자를 입력하세요: 3\n",
      "입력한 숫자는 5보다 작습니다.\n"
     ]
    }
   ],
   "source": []
  },
  {
   "attachments": {},
   "cell_type": "markdown",
   "id": "b89c7462",
   "metadata": {},
   "source": [
    "####  13. range() 함수와 for문을 사용하여 1부터 10까지의 합을 계산하는 코드를 작성하시오.!"
   ]
  },
  {
   "cell_type": "code",
   "execution_count": 21,
   "id": "10dc622d",
   "metadata": {},
   "outputs": [
    {
     "name": "stdout",
     "output_type": "stream",
     "text": [
      "55\n"
     ]
    }
   ],
   "source": []
  },
  {
   "attachments": {},
   "cell_type": "markdown",
   "id": "fc457e82",
   "metadata": {},
   "source": [
    "#### 14. 리스트에서 최댓값을 반환하는 사용자 정의 함수 find_max를 작성해서, [1,2,3,4,5] 리스트의 최대값을 구하시오. "
   ]
  },
  {
   "cell_type": "code",
   "execution_count": 23,
   "id": "eeee7d67",
   "metadata": {},
   "outputs": [
    {
     "data": {
      "text/plain": [
       "5"
      ]
     },
     "execution_count": 23,
     "metadata": {},
     "output_type": "execute_result"
    }
   ],
   "source": []
  },
  {
   "attachments": {},
   "cell_type": "markdown",
   "id": "aa1309f2",
   "metadata": {},
   "source": [
    "#### 15. 다음 코드에서 random 라이브러리를 rd 라는 약자로 코딩되도록 변경해 보시오. \n",
    "\n",
    "from random import randint\n",
    "\n",
    "random_num = randint(1, 10)\n",
    "\n",
    "print(\"랜덤한 정수:\", random_num)"
   ]
  },
  {
   "cell_type": "code",
   "execution_count": 24,
   "id": "e9dc59d7",
   "metadata": {},
   "outputs": [
    {
     "name": "stdout",
     "output_type": "stream",
     "text": [
      "랜덤한 정수: 10\n"
     ]
    }
   ],
   "source": []
  },
  {
   "attachments": {},
   "cell_type": "markdown",
   "id": "35609c4c",
   "metadata": {},
   "source": [
    "#### 16. 다음 딕셔너리에서 'name' 키의 값을 'Alice'로 변경하는 코드를 작성하세요.\n",
    "person = {'name': 'Bob', 'age': 25, 'city': 'Seoul'}"
   ]
  },
  {
   "cell_type": "code",
   "execution_count": 25,
   "id": "9a5c1afe",
   "metadata": {},
   "outputs": [
    {
     "name": "stdout",
     "output_type": "stream",
     "text": [
      "{'name': 'Alice', 'age': 25, 'city': 'Seoul'}\n"
     ]
    }
   ],
   "source": []
  },
  {
   "attachments": {},
   "cell_type": "markdown",
   "id": "3882ceb3",
   "metadata": {},
   "source": [
    "#### 17.다음 딕셔너리에서 'city' 키가 존재하는지 확인하는 코드를 작성하세요.\n",
    "person = {'name': 'Bob', 'age': 25}"
   ]
  },
  {
   "cell_type": "code",
   "execution_count": 26,
   "id": "383a1691",
   "metadata": {},
   "outputs": [
    {
     "name": "stdout",
     "output_type": "stream",
     "text": [
      "딕셔너리에 'city' 키가 없습니다.\n"
     ]
    }
   ],
   "source": []
  },
  {
   "attachments": {},
   "cell_type": "markdown",
   "id": "6b347779",
   "metadata": {},
   "source": [
    "#### 18. 다음 딕셔너리에서 'age' 키와 값의 쌍을 삭제하는 코드를 작성하세요.\n",
    "person = {'name': 'Bob', 'age': 25, 'city': 'Seoul'}"
   ]
  },
  {
   "cell_type": "code",
   "execution_count": 27,
   "id": "f1dc636d",
   "metadata": {},
   "outputs": [
    {
     "name": "stdout",
     "output_type": "stream",
     "text": [
      "{'name': 'Bob', 'city': 'Seoul'}\n"
     ]
    }
   ],
   "source": []
  },
  {
   "attachments": {},
   "cell_type": "markdown",
   "id": "df3f5ebd",
   "metadata": {},
   "source": [
    "#### 19. 다음 딕셔너리에서 값이 30 이상인 키와 값을 출력하는 코드를 작성하세요.\n",
    "scores = {'Alice': 80, 'Bob': 65, 'Charlie': 90, 'Dave': 75}"
   ]
  },
  {
   "cell_type": "code",
   "execution_count": 28,
   "id": "25ed4034",
   "metadata": {},
   "outputs": [
    {
     "name": "stdout",
     "output_type": "stream",
     "text": [
      "Alice 80\n",
      "Bob 65\n",
      "Charlie 90\n",
      "Dave 75\n"
     ]
    }
   ],
   "source": []
  },
  {
   "attachments": {},
   "cell_type": "markdown",
   "id": "1cc94946",
   "metadata": {},
   "source": [
    "#### 20. 리스트 컴프리헨션을 사용하여 1부터 10까지의 수 중에서 짝수만을 리스트로 만드는 코드를 작성해보세요"
   ]
  },
  {
   "cell_type": "code",
   "execution_count": 3,
   "id": "a1476194",
   "metadata": {},
   "outputs": [
    {
     "name": "stdout",
     "output_type": "stream",
     "text": [
      "[2, 4, 6, 8, 10]\n"
     ]
    }
   ],
   "source": [
    "# 리스트 컴프리헨션\n"
   ]
  },
  {
   "cell_type": "code",
   "execution_count": 4,
   "id": "674586db",
   "metadata": {},
   "outputs": [
    {
     "name": "stdout",
     "output_type": "stream",
     "text": [
      "[2, 4, 6, 8, 10]\n"
     ]
    }
   ],
   "source": [
    "# 참고로..그냥 for 문 돌리기\n"
   ]
  }
 ],
 "metadata": {
  "kernelspec": {
   "display_name": "Python 3 (ipykernel)",
   "language": "python",
   "name": "python3"
  },
  "language_info": {
   "codemirror_mode": {
    "name": "ipython",
    "version": 3
   },
   "file_extension": ".py",
   "mimetype": "text/x-python",
   "name": "python",
   "nbconvert_exporter": "python",
   "pygments_lexer": "ipython3",
   "version": "3.10.10"
  }
 },
 "nbformat": 4,
 "nbformat_minor": 5
}
