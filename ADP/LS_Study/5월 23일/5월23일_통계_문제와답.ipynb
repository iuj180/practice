{
 "cells": [
  {
   "cell_type": "markdown",
   "id": "5a3d2aa0",
   "metadata": {},
   "source": [
    "##### 5월 23일 스터디 : 통계 검정"
   ]
  },
  {
   "cell_type": "markdown",
   "id": "1619408c",
   "metadata": {},
   "source": [
    "#### 1. 자료가 수집된 지역의 평균온도(temp)는 20도라고 한다. 수집된 데이터를 사용하여 양측검정을 실시했을 때의 p-value 는 ? ( bike.csv 활용) (소수점 4째자리에서 반올림)"
   ]
  },
  {
   "cell_type": "code",
   "execution_count": 1,
   "id": "dfe85ad7",
   "metadata": {},
   "outputs": [
    {
     "data": {
      "text/html": [
       "<div>\n",
       "<style scoped>\n",
       "    .dataframe tbody tr th:only-of-type {\n",
       "        vertical-align: middle;\n",
       "    }\n",
       "\n",
       "    .dataframe tbody tr th {\n",
       "        vertical-align: top;\n",
       "    }\n",
       "\n",
       "    .dataframe thead th {\n",
       "        text-align: right;\n",
       "    }\n",
       "</style>\n",
       "<table border=\"1\" class=\"dataframe\">\n",
       "  <thead>\n",
       "    <tr style=\"text-align: right;\">\n",
       "      <th></th>\n",
       "      <th>datetime</th>\n",
       "      <th>season</th>\n",
       "      <th>holiday</th>\n",
       "      <th>workingday</th>\n",
       "      <th>weather</th>\n",
       "      <th>temp</th>\n",
       "      <th>atemp</th>\n",
       "      <th>humidity</th>\n",
       "      <th>windspeed</th>\n",
       "      <th>casual</th>\n",
       "      <th>registered</th>\n",
       "      <th>count</th>\n",
       "    </tr>\n",
       "  </thead>\n",
       "  <tbody>\n",
       "    <tr>\n",
       "      <th>0</th>\n",
       "      <td>2011-01-01 00:00:00</td>\n",
       "      <td>1</td>\n",
       "      <td>0</td>\n",
       "      <td>0</td>\n",
       "      <td>1</td>\n",
       "      <td>9.84</td>\n",
       "      <td>14.395</td>\n",
       "      <td>81</td>\n",
       "      <td>0.0</td>\n",
       "      <td>3</td>\n",
       "      <td>13</td>\n",
       "      <td>16</td>\n",
       "    </tr>\n",
       "    <tr>\n",
       "      <th>1</th>\n",
       "      <td>2011-01-01 01:00:00</td>\n",
       "      <td>1</td>\n",
       "      <td>0</td>\n",
       "      <td>0</td>\n",
       "      <td>1</td>\n",
       "      <td>9.02</td>\n",
       "      <td>13.635</td>\n",
       "      <td>80</td>\n",
       "      <td>0.0</td>\n",
       "      <td>8</td>\n",
       "      <td>32</td>\n",
       "      <td>40</td>\n",
       "    </tr>\n",
       "    <tr>\n",
       "      <th>2</th>\n",
       "      <td>2011-01-01 02:00:00</td>\n",
       "      <td>1</td>\n",
       "      <td>0</td>\n",
       "      <td>0</td>\n",
       "      <td>1</td>\n",
       "      <td>9.02</td>\n",
       "      <td>13.635</td>\n",
       "      <td>80</td>\n",
       "      <td>0.0</td>\n",
       "      <td>5</td>\n",
       "      <td>27</td>\n",
       "      <td>32</td>\n",
       "    </tr>\n",
       "    <tr>\n",
       "      <th>3</th>\n",
       "      <td>2011-01-01 03:00:00</td>\n",
       "      <td>1</td>\n",
       "      <td>0</td>\n",
       "      <td>0</td>\n",
       "      <td>1</td>\n",
       "      <td>9.84</td>\n",
       "      <td>14.395</td>\n",
       "      <td>75</td>\n",
       "      <td>0.0</td>\n",
       "      <td>3</td>\n",
       "      <td>10</td>\n",
       "      <td>13</td>\n",
       "    </tr>\n",
       "    <tr>\n",
       "      <th>4</th>\n",
       "      <td>2011-01-01 04:00:00</td>\n",
       "      <td>1</td>\n",
       "      <td>0</td>\n",
       "      <td>0</td>\n",
       "      <td>1</td>\n",
       "      <td>9.84</td>\n",
       "      <td>14.395</td>\n",
       "      <td>75</td>\n",
       "      <td>0.0</td>\n",
       "      <td>0</td>\n",
       "      <td>1</td>\n",
       "      <td>1</td>\n",
       "    </tr>\n",
       "  </tbody>\n",
       "</table>\n",
       "</div>"
      ],
      "text/plain": [
       "              datetime  season  holiday  workingday  weather  temp   atemp  \\\n",
       "0  2011-01-01 00:00:00       1        0           0        1  9.84  14.395   \n",
       "1  2011-01-01 01:00:00       1        0           0        1  9.02  13.635   \n",
       "2  2011-01-01 02:00:00       1        0           0        1  9.02  13.635   \n",
       "3  2011-01-01 03:00:00       1        0           0        1  9.84  14.395   \n",
       "4  2011-01-01 04:00:00       1        0           0        1  9.84  14.395   \n",
       "\n",
       "   humidity  windspeed  casual  registered  count  \n",
       "0        81        0.0       3          13     16  \n",
       "1        80        0.0       8          32     40  \n",
       "2        80        0.0       5          27     32  \n",
       "3        75        0.0       3          10     13  \n",
       "4        75        0.0       0           1      1  "
      ]
     },
     "execution_count": 1,
     "metadata": {},
     "output_type": "execute_result"
    }
   ],
   "source": [
    "import pandas as pd\n",
    "from scipy.stats import * \n",
    "\n",
    "df = pd.read_csv(\"./bike.csv\")\n",
    "df.head()"
   ]
  },
  {
   "cell_type": "code",
   "execution_count": 2,
   "id": "c6fef125",
   "metadata": {},
   "outputs": [
    {
     "name": "stdout",
     "output_type": "stream",
     "text": [
      "3.0914087709393705\n",
      "0.002\n"
     ]
    }
   ],
   "source": [
    "stat, p = ttest_1samp(\n",
    "                        a = df['temp'],\n",
    "                        popmean = 20,\n",
    "                        axis=0,\n",
    "                        nan_policy='propagate',\n",
    "                        alternative='two-sided',\n",
    "                      )\n",
    "\n",
    "print(stat)\n",
    "print(round(p, 3))"
   ]
  },
  {
   "cell_type": "markdown",
   "id": "197681c6",
   "metadata": {},
   "source": [
    "#### 2. 2011년 1월의 데이터를 대상으로 동 시간대의 각 casual 과 registered의 평균 차이 검정 시 검정 통계량은? (bike.csv 파일 사용, 양측 검정을 실시하고 검정통계량 절대값의 정수 부분을 확인하시오) "
   ]
  },
  {
   "cell_type": "code",
   "execution_count": 3,
   "id": "5510565a",
   "metadata": {},
   "outputs": [
    {
     "data": {
      "text/html": [
       "<div>\n",
       "<style scoped>\n",
       "    .dataframe tbody tr th:only-of-type {\n",
       "        vertical-align: middle;\n",
       "    }\n",
       "\n",
       "    .dataframe tbody tr th {\n",
       "        vertical-align: top;\n",
       "    }\n",
       "\n",
       "    .dataframe thead th {\n",
       "        text-align: right;\n",
       "    }\n",
       "</style>\n",
       "<table border=\"1\" class=\"dataframe\">\n",
       "  <thead>\n",
       "    <tr style=\"text-align: right;\">\n",
       "      <th></th>\n",
       "      <th>datetime</th>\n",
       "      <th>season</th>\n",
       "      <th>holiday</th>\n",
       "      <th>workingday</th>\n",
       "      <th>weather</th>\n",
       "      <th>temp</th>\n",
       "      <th>atemp</th>\n",
       "      <th>humidity</th>\n",
       "      <th>windspeed</th>\n",
       "      <th>casual</th>\n",
       "      <th>registered</th>\n",
       "      <th>count</th>\n",
       "    </tr>\n",
       "  </thead>\n",
       "  <tbody>\n",
       "    <tr>\n",
       "      <th>0</th>\n",
       "      <td>2011-01-01 00:00:00</td>\n",
       "      <td>1</td>\n",
       "      <td>0</td>\n",
       "      <td>0</td>\n",
       "      <td>1</td>\n",
       "      <td>9.84</td>\n",
       "      <td>14.395</td>\n",
       "      <td>81</td>\n",
       "      <td>0.0</td>\n",
       "      <td>3</td>\n",
       "      <td>13</td>\n",
       "      <td>16</td>\n",
       "    </tr>\n",
       "    <tr>\n",
       "      <th>1</th>\n",
       "      <td>2011-01-01 01:00:00</td>\n",
       "      <td>1</td>\n",
       "      <td>0</td>\n",
       "      <td>0</td>\n",
       "      <td>1</td>\n",
       "      <td>9.02</td>\n",
       "      <td>13.635</td>\n",
       "      <td>80</td>\n",
       "      <td>0.0</td>\n",
       "      <td>8</td>\n",
       "      <td>32</td>\n",
       "      <td>40</td>\n",
       "    </tr>\n",
       "    <tr>\n",
       "      <th>2</th>\n",
       "      <td>2011-01-01 02:00:00</td>\n",
       "      <td>1</td>\n",
       "      <td>0</td>\n",
       "      <td>0</td>\n",
       "      <td>1</td>\n",
       "      <td>9.02</td>\n",
       "      <td>13.635</td>\n",
       "      <td>80</td>\n",
       "      <td>0.0</td>\n",
       "      <td>5</td>\n",
       "      <td>27</td>\n",
       "      <td>32</td>\n",
       "    </tr>\n",
       "    <tr>\n",
       "      <th>3</th>\n",
       "      <td>2011-01-01 03:00:00</td>\n",
       "      <td>1</td>\n",
       "      <td>0</td>\n",
       "      <td>0</td>\n",
       "      <td>1</td>\n",
       "      <td>9.84</td>\n",
       "      <td>14.395</td>\n",
       "      <td>75</td>\n",
       "      <td>0.0</td>\n",
       "      <td>3</td>\n",
       "      <td>10</td>\n",
       "      <td>13</td>\n",
       "    </tr>\n",
       "    <tr>\n",
       "      <th>4</th>\n",
       "      <td>2011-01-01 04:00:00</td>\n",
       "      <td>1</td>\n",
       "      <td>0</td>\n",
       "      <td>0</td>\n",
       "      <td>1</td>\n",
       "      <td>9.84</td>\n",
       "      <td>14.395</td>\n",
       "      <td>75</td>\n",
       "      <td>0.0</td>\n",
       "      <td>0</td>\n",
       "      <td>1</td>\n",
       "      <td>1</td>\n",
       "    </tr>\n",
       "  </tbody>\n",
       "</table>\n",
       "</div>"
      ],
      "text/plain": [
       "              datetime  season  holiday  workingday  weather  temp   atemp  \\\n",
       "0  2011-01-01 00:00:00       1        0           0        1  9.84  14.395   \n",
       "1  2011-01-01 01:00:00       1        0           0        1  9.02  13.635   \n",
       "2  2011-01-01 02:00:00       1        0           0        1  9.02  13.635   \n",
       "3  2011-01-01 03:00:00       1        0           0        1  9.84  14.395   \n",
       "4  2011-01-01 04:00:00       1        0           0        1  9.84  14.395   \n",
       "\n",
       "   humidity  windspeed  casual  registered  count  \n",
       "0        81        0.0       3          13     16  \n",
       "1        80        0.0       8          32     40  \n",
       "2        80        0.0       5          27     32  \n",
       "3        75        0.0       3          10     13  \n",
       "4        75        0.0       0           1      1  "
      ]
     },
     "execution_count": 3,
     "metadata": {},
     "output_type": "execute_result"
    }
   ],
   "source": [
    "df.head()"
   ]
  },
  {
   "cell_type": "code",
   "execution_count": 4,
   "id": "34fa9bb4",
   "metadata": {},
   "outputs": [
    {
     "name": "stdout",
     "output_type": "stream",
     "text": [
      "<class 'pandas.core.frame.DataFrame'>\n",
      "RangeIndex: 10886 entries, 0 to 10885\n",
      "Data columns (total 12 columns):\n",
      " #   Column      Non-Null Count  Dtype  \n",
      "---  ------      --------------  -----  \n",
      " 0   datetime    10886 non-null  object \n",
      " 1   season      10886 non-null  int64  \n",
      " 2   holiday     10886 non-null  int64  \n",
      " 3   workingday  10886 non-null  int64  \n",
      " 4   weather     10886 non-null  int64  \n",
      " 5   temp        10886 non-null  float64\n",
      " 6   atemp       10886 non-null  float64\n",
      " 7   humidity    10886 non-null  int64  \n",
      " 8   windspeed   10886 non-null  float64\n",
      " 9   casual      10886 non-null  int64  \n",
      " 10  registered  10886 non-null  int64  \n",
      " 11  count       10886 non-null  int64  \n",
      "dtypes: float64(3), int64(8), object(1)\n",
      "memory usage: 1020.7+ KB\n"
     ]
    }
   ],
   "source": [
    "df.info()"
   ]
  },
  {
   "cell_type": "code",
   "execution_count": 13,
   "id": "352638ca",
   "metadata": {},
   "outputs": [],
   "source": [
    "df['날짜'] = pd.to_datetime(df['datetime']).dt.date"
   ]
  },
  {
   "cell_type": "code",
   "execution_count": 14,
   "id": "4319a7fc",
   "metadata": {},
   "outputs": [],
   "source": [
    "df['연도'] = pd.to_datetime(df['datetime']).dt.year\n",
    "df['월'] = pd.to_datetime(df['datetime']).dt.month"
   ]
  },
  {
   "cell_type": "code",
   "execution_count": 15,
   "id": "d47a4c90",
   "metadata": {},
   "outputs": [
    {
     "data": {
      "text/html": [
       "<div>\n",
       "<style scoped>\n",
       "    .dataframe tbody tr th:only-of-type {\n",
       "        vertical-align: middle;\n",
       "    }\n",
       "\n",
       "    .dataframe tbody tr th {\n",
       "        vertical-align: top;\n",
       "    }\n",
       "\n",
       "    .dataframe thead th {\n",
       "        text-align: right;\n",
       "    }\n",
       "</style>\n",
       "<table border=\"1\" class=\"dataframe\">\n",
       "  <thead>\n",
       "    <tr style=\"text-align: right;\">\n",
       "      <th></th>\n",
       "      <th>datetime</th>\n",
       "      <th>season</th>\n",
       "      <th>holiday</th>\n",
       "      <th>workingday</th>\n",
       "      <th>weather</th>\n",
       "      <th>temp</th>\n",
       "      <th>atemp</th>\n",
       "      <th>humidity</th>\n",
       "      <th>windspeed</th>\n",
       "      <th>casual</th>\n",
       "      <th>registered</th>\n",
       "      <th>count</th>\n",
       "      <th>날짜</th>\n",
       "      <th>연도</th>\n",
       "      <th>월</th>\n",
       "    </tr>\n",
       "  </thead>\n",
       "  <tbody>\n",
       "    <tr>\n",
       "      <th>0</th>\n",
       "      <td>2011-01-01 00:00:00</td>\n",
       "      <td>1</td>\n",
       "      <td>0</td>\n",
       "      <td>0</td>\n",
       "      <td>1</td>\n",
       "      <td>9.84</td>\n",
       "      <td>14.395</td>\n",
       "      <td>81</td>\n",
       "      <td>0.0</td>\n",
       "      <td>3</td>\n",
       "      <td>13</td>\n",
       "      <td>16</td>\n",
       "      <td>2011-01-01</td>\n",
       "      <td>2011</td>\n",
       "      <td>1</td>\n",
       "    </tr>\n",
       "    <tr>\n",
       "      <th>1</th>\n",
       "      <td>2011-01-01 01:00:00</td>\n",
       "      <td>1</td>\n",
       "      <td>0</td>\n",
       "      <td>0</td>\n",
       "      <td>1</td>\n",
       "      <td>9.02</td>\n",
       "      <td>13.635</td>\n",
       "      <td>80</td>\n",
       "      <td>0.0</td>\n",
       "      <td>8</td>\n",
       "      <td>32</td>\n",
       "      <td>40</td>\n",
       "      <td>2011-01-01</td>\n",
       "      <td>2011</td>\n",
       "      <td>1</td>\n",
       "    </tr>\n",
       "    <tr>\n",
       "      <th>2</th>\n",
       "      <td>2011-01-01 02:00:00</td>\n",
       "      <td>1</td>\n",
       "      <td>0</td>\n",
       "      <td>0</td>\n",
       "      <td>1</td>\n",
       "      <td>9.02</td>\n",
       "      <td>13.635</td>\n",
       "      <td>80</td>\n",
       "      <td>0.0</td>\n",
       "      <td>5</td>\n",
       "      <td>27</td>\n",
       "      <td>32</td>\n",
       "      <td>2011-01-01</td>\n",
       "      <td>2011</td>\n",
       "      <td>1</td>\n",
       "    </tr>\n",
       "    <tr>\n",
       "      <th>3</th>\n",
       "      <td>2011-01-01 03:00:00</td>\n",
       "      <td>1</td>\n",
       "      <td>0</td>\n",
       "      <td>0</td>\n",
       "      <td>1</td>\n",
       "      <td>9.84</td>\n",
       "      <td>14.395</td>\n",
       "      <td>75</td>\n",
       "      <td>0.0</td>\n",
       "      <td>3</td>\n",
       "      <td>10</td>\n",
       "      <td>13</td>\n",
       "      <td>2011-01-01</td>\n",
       "      <td>2011</td>\n",
       "      <td>1</td>\n",
       "    </tr>\n",
       "    <tr>\n",
       "      <th>4</th>\n",
       "      <td>2011-01-01 04:00:00</td>\n",
       "      <td>1</td>\n",
       "      <td>0</td>\n",
       "      <td>0</td>\n",
       "      <td>1</td>\n",
       "      <td>9.84</td>\n",
       "      <td>14.395</td>\n",
       "      <td>75</td>\n",
       "      <td>0.0</td>\n",
       "      <td>0</td>\n",
       "      <td>1</td>\n",
       "      <td>1</td>\n",
       "      <td>2011-01-01</td>\n",
       "      <td>2011</td>\n",
       "      <td>1</td>\n",
       "    </tr>\n",
       "  </tbody>\n",
       "</table>\n",
       "</div>"
      ],
      "text/plain": [
       "              datetime  season  holiday  workingday  weather  temp   atemp  \\\n",
       "0  2011-01-01 00:00:00       1        0           0        1  9.84  14.395   \n",
       "1  2011-01-01 01:00:00       1        0           0        1  9.02  13.635   \n",
       "2  2011-01-01 02:00:00       1        0           0        1  9.02  13.635   \n",
       "3  2011-01-01 03:00:00       1        0           0        1  9.84  14.395   \n",
       "4  2011-01-01 04:00:00       1        0           0        1  9.84  14.395   \n",
       "\n",
       "   humidity  windspeed  casual  registered  count          날짜    연도  월  \n",
       "0        81        0.0       3          13     16  2011-01-01  2011  1  \n",
       "1        80        0.0       8          32     40  2011-01-01  2011  1  \n",
       "2        80        0.0       5          27     32  2011-01-01  2011  1  \n",
       "3        75        0.0       3          10     13  2011-01-01  2011  1  \n",
       "4        75        0.0       0           1      1  2011-01-01  2011  1  "
      ]
     },
     "execution_count": 15,
     "metadata": {},
     "output_type": "execute_result"
    }
   ],
   "source": [
    "df.head()"
   ]
  },
  {
   "cell_type": "code",
   "execution_count": 24,
   "id": "4c13a0f7",
   "metadata": {},
   "outputs": [
    {
     "data": {
      "text/plain": [
       "0       13\n",
       "1       32\n",
       "2       27\n",
       "3       10\n",
       "4        1\n",
       "      ... \n",
       "426    108\n",
       "427     74\n",
       "428     55\n",
       "429     53\n",
       "430     27\n",
       "Name: registered, Length: 431, dtype: int64"
      ]
     },
     "execution_count": 24,
     "metadata": {},
     "output_type": "execute_result"
    }
   ],
   "source": [
    "df[(df['연도'] == 2011) & (df['월'] == 1)]['casual']\n",
    "df[(df['연도'] == 2011) & (df['월'] == 1)]['registered']"
   ]
  },
  {
   "cell_type": "code",
   "execution_count": 25,
   "id": "08b08df0",
   "metadata": {},
   "outputs": [
    {
     "name": "stdout",
     "output_type": "stream",
     "text": [
      "-21.409875120262452\n",
      "9.427438846135679e-70\n"
     ]
    }
   ],
   "source": [
    "# 독립표본이 아니라, 대응 표본인거 중요 !!! \n",
    "stat, p = ttest_rel(a = df[(df['연도'] == 2011) & (df['월'] == 1)]['casual'], \n",
    "                    b = df[(df['연도'] == 2011) & (df['월'] == 1)]['registered'], \n",
    "                    axis=0, \n",
    "                    nan_policy='propagate', \n",
    "                    alternative='two-sided')\n",
    "\n",
    "print(stat)\n",
    "print(p)"
   ]
  },
  {
   "cell_type": "code",
   "execution_count": 28,
   "id": "51bfac4a",
   "metadata": {},
   "outputs": [
    {
     "name": "stdout",
     "output_type": "stream",
     "text": [
      "21\n"
     ]
    }
   ],
   "source": [
    "print(round(abs(stat)))"
   ]
  },
  {
   "cell_type": "markdown",
   "id": "59bd94b1",
   "metadata": {},
   "source": [
    "#### 3. season1과 season4 간의 temp 평균 차이 여부를 검정 시 검정통계량은? bike.csv 파일 사용, 양측 검정을 실시하고 검정통계량 절대값의 정수부분을 확인하시오. \n",
    "단, 두 데이터는 정규분포를 따르고 등분산이라고 가정 "
   ]
  },
  {
   "cell_type": "code",
   "execution_count": 5,
   "id": "38ad7588",
   "metadata": {},
   "outputs": [
    {
     "data": {
      "text/html": [
       "<div>\n",
       "<style scoped>\n",
       "    .dataframe tbody tr th:only-of-type {\n",
       "        vertical-align: middle;\n",
       "    }\n",
       "\n",
       "    .dataframe tbody tr th {\n",
       "        vertical-align: top;\n",
       "    }\n",
       "\n",
       "    .dataframe thead th {\n",
       "        text-align: right;\n",
       "    }\n",
       "</style>\n",
       "<table border=\"1\" class=\"dataframe\">\n",
       "  <thead>\n",
       "    <tr style=\"text-align: right;\">\n",
       "      <th></th>\n",
       "      <th>datetime</th>\n",
       "      <th>season</th>\n",
       "      <th>holiday</th>\n",
       "      <th>workingday</th>\n",
       "      <th>weather</th>\n",
       "      <th>temp</th>\n",
       "      <th>atemp</th>\n",
       "      <th>humidity</th>\n",
       "      <th>windspeed</th>\n",
       "      <th>casual</th>\n",
       "      <th>registered</th>\n",
       "      <th>count</th>\n",
       "    </tr>\n",
       "  </thead>\n",
       "  <tbody>\n",
       "    <tr>\n",
       "      <th>0</th>\n",
       "      <td>2011-01-01 00:00:00</td>\n",
       "      <td>1</td>\n",
       "      <td>0</td>\n",
       "      <td>0</td>\n",
       "      <td>1</td>\n",
       "      <td>9.84</td>\n",
       "      <td>14.395</td>\n",
       "      <td>81</td>\n",
       "      <td>0.0</td>\n",
       "      <td>3</td>\n",
       "      <td>13</td>\n",
       "      <td>16</td>\n",
       "    </tr>\n",
       "    <tr>\n",
       "      <th>1</th>\n",
       "      <td>2011-01-01 01:00:00</td>\n",
       "      <td>1</td>\n",
       "      <td>0</td>\n",
       "      <td>0</td>\n",
       "      <td>1</td>\n",
       "      <td>9.02</td>\n",
       "      <td>13.635</td>\n",
       "      <td>80</td>\n",
       "      <td>0.0</td>\n",
       "      <td>8</td>\n",
       "      <td>32</td>\n",
       "      <td>40</td>\n",
       "    </tr>\n",
       "    <tr>\n",
       "      <th>2</th>\n",
       "      <td>2011-01-01 02:00:00</td>\n",
       "      <td>1</td>\n",
       "      <td>0</td>\n",
       "      <td>0</td>\n",
       "      <td>1</td>\n",
       "      <td>9.02</td>\n",
       "      <td>13.635</td>\n",
       "      <td>80</td>\n",
       "      <td>0.0</td>\n",
       "      <td>5</td>\n",
       "      <td>27</td>\n",
       "      <td>32</td>\n",
       "    </tr>\n",
       "    <tr>\n",
       "      <th>3</th>\n",
       "      <td>2011-01-01 03:00:00</td>\n",
       "      <td>1</td>\n",
       "      <td>0</td>\n",
       "      <td>0</td>\n",
       "      <td>1</td>\n",
       "      <td>9.84</td>\n",
       "      <td>14.395</td>\n",
       "      <td>75</td>\n",
       "      <td>0.0</td>\n",
       "      <td>3</td>\n",
       "      <td>10</td>\n",
       "      <td>13</td>\n",
       "    </tr>\n",
       "    <tr>\n",
       "      <th>4</th>\n",
       "      <td>2011-01-01 04:00:00</td>\n",
       "      <td>1</td>\n",
       "      <td>0</td>\n",
       "      <td>0</td>\n",
       "      <td>1</td>\n",
       "      <td>9.84</td>\n",
       "      <td>14.395</td>\n",
       "      <td>75</td>\n",
       "      <td>0.0</td>\n",
       "      <td>0</td>\n",
       "      <td>1</td>\n",
       "      <td>1</td>\n",
       "    </tr>\n",
       "  </tbody>\n",
       "</table>\n",
       "</div>"
      ],
      "text/plain": [
       "              datetime  season  holiday  workingday  weather  temp   atemp  \\\n",
       "0  2011-01-01 00:00:00       1        0           0        1  9.84  14.395   \n",
       "1  2011-01-01 01:00:00       1        0           0        1  9.02  13.635   \n",
       "2  2011-01-01 02:00:00       1        0           0        1  9.02  13.635   \n",
       "3  2011-01-01 03:00:00       1        0           0        1  9.84  14.395   \n",
       "4  2011-01-01 04:00:00       1        0           0        1  9.84  14.395   \n",
       "\n",
       "   humidity  windspeed  casual  registered  count  \n",
       "0        81        0.0       3          13     16  \n",
       "1        80        0.0       8          32     40  \n",
       "2        80        0.0       5          27     32  \n",
       "3        75        0.0       3          10     13  \n",
       "4        75        0.0       0           1      1  "
      ]
     },
     "execution_count": 5,
     "metadata": {},
     "output_type": "execute_result"
    }
   ],
   "source": [
    "df.head()"
   ]
  },
  {
   "cell_type": "code",
   "execution_count": 6,
   "id": "cc0a2d15",
   "metadata": {},
   "outputs": [
    {
     "data": {
      "text/plain": [
       "4055     20.50\n",
       "4056     19.68\n",
       "4057     18.86\n",
       "4058     18.86\n",
       "4059     18.04\n",
       "         ...  \n",
       "10881    15.58\n",
       "10882    14.76\n",
       "10883    13.94\n",
       "10884    13.94\n",
       "10885    13.12\n",
       "Name: temp, Length: 2734, dtype: float64"
      ]
     },
     "execution_count": 6,
     "metadata": {},
     "output_type": "execute_result"
    }
   ],
   "source": [
    "df[df['season'] == 1]['temp']\n",
    "df[df['season'] == 4]['temp']\n"
   ]
  },
  {
   "cell_type": "code",
   "execution_count": 7,
   "id": "0535133f",
   "metadata": {},
   "outputs": [
    {
     "name": "stdout",
     "output_type": "stream",
     "text": [
      "1.2696483555565145e-23\n"
     ]
    }
   ],
   "source": [
    "statistic, p_value = shapiro(df[df['season'] == 1]['temp'])\n",
    "print(p_value)\n",
    "# H0: 정규분포다\n",
    "# H0: 정규분포 아니다. \n",
    "# p-value 1.2696483555565145e-23 이므로 귀무가설 기각  -> 정규 분포 X\n",
    "# 하지만 문제에서 정규분포라고 가정하니까.."
   ]
  },
  {
   "cell_type": "code",
   "execution_count": 8,
   "id": "8e9e3bdc",
   "metadata": {},
   "outputs": [
    {
     "name": "stdout",
     "output_type": "stream",
     "text": [
      "1.1418009557360738e-19\n"
     ]
    }
   ],
   "source": [
    "statistic, p_value = shapiro(df[df['season'] == 4]['temp'])\n",
    "print(p_value)\n",
    "# H0: 정규분포다\n",
    "# H0: 정규분포 아니다. \n",
    "# p-value 1.1418009557360738e-19 이므로 귀무가설 기각  -> 정규 분포 X\n",
    "# 하지만 문제에서 정규분포라고 가정하니까.."
   ]
  },
  {
   "cell_type": "code",
   "execution_count": 9,
   "id": "e91c8ab2",
   "metadata": {},
   "outputs": [
    {
     "name": "stdout",
     "output_type": "stream",
     "text": [
      "6.273354391414615e-189\n"
     ]
    }
   ],
   "source": [
    "statistic, p_value = ttest_ind(\n",
    "                        a = df[df['season'] == 1]['temp'],\n",
    "                        b = df[df['season'] == 4]['temp'],\n",
    "                        axis=0,\n",
    "                        equal_var=True, # 등분산 가정 \n",
    "                        nan_policy='propagate',\n",
    "                        permutations=None,\n",
    "                        random_state=None,\n",
    "                        alternative='two-sided',\n",
    "                        trim=0,\n",
    "                    )\n",
    "print(p_value)"
   ]
  },
  {
   "cell_type": "code",
   "execution_count": 10,
   "id": "774bc828",
   "metadata": {},
   "outputs": [],
   "source": [
    "# H0: 평균이 같다. \n",
    "# H1: 같지 않다(양측)\n",
    "# p-value 6.273354391414615e-189 < 0.05, 귀무가설 기각.. 따라서 같지 않다. "
   ]
  },
  {
   "cell_type": "markdown",
   "id": "c59984e9",
   "metadata": {},
   "source": [
    "#### 4. 계절별 기온 평균을 분산분석시 검정통계량은 (bike.csv 파일 사용) \n",
    "단, 각 데이터는 정규분포를 따르고 등분산이다라고 가정함 "
   ]
  },
  {
   "cell_type": "code",
   "execution_count": 11,
   "id": "a9252c6f",
   "metadata": {},
   "outputs": [
    {
     "name": "stdout",
     "output_type": "stream",
     "text": [
      "6040.687453316907\n"
     ]
    }
   ],
   "source": [
    "data1 = df[df['season'] == 1]['temp']\n",
    "data2 = df[df['season'] == 2]['temp']\n",
    "data3 = df[df['season'] == 3]['temp']\n",
    "data4 = df[df['season'] == 4]['temp']\n",
    "\n",
    "f_statistic, p_value = f_oneway(data1, data2, data3, data4)\n",
    "print(f_statistic)\n"
   ]
  },
  {
   "cell_type": "code",
   "execution_count": 12,
   "id": "7afd77fb",
   "metadata": {},
   "outputs": [
    {
     "name": "stdout",
     "output_type": "stream",
     "text": [
      "0.0\n"
     ]
    }
   ],
   "source": [
    "print(p_value)\n",
    "# 귀무가설(H0): 모든 그룹의 평균은 동일하다.\n",
    "# 대립가설(H1): 적어도 하나의 그룹의 평균은 다른 그룹과 유의미하게 다르다.\n",
    "# p-value 0.0 < 0.05 이므로 귀무가설 기각하고 대립가설 채택 .\n",
    "# 따라서 유의미하게 다르다. "
   ]
  },
  {
   "cell_type": "markdown",
   "id": "df2b879a",
   "metadata": {},
   "source": [
    "#### 5. 주어진 iris 데이터셋의 'species' 열을 기준으로, 'sepal_length' 열의 값들이 종(species) 간에 유의미한 차이가 있는지를 one-way ANOVA 검정으로 확인한 뒤, 사후 검정을 진행하는 코드를 작성해주세요."
   ]
  },
  {
   "cell_type": "code",
   "execution_count": 24,
   "id": "4acfc120",
   "metadata": {},
   "outputs": [
    {
     "data": {
      "text/html": [
       "<div>\n",
       "<style scoped>\n",
       "    .dataframe tbody tr th:only-of-type {\n",
       "        vertical-align: middle;\n",
       "    }\n",
       "\n",
       "    .dataframe tbody tr th {\n",
       "        vertical-align: top;\n",
       "    }\n",
       "\n",
       "    .dataframe thead th {\n",
       "        text-align: right;\n",
       "    }\n",
       "</style>\n",
       "<table border=\"1\" class=\"dataframe\">\n",
       "  <thead>\n",
       "    <tr style=\"text-align: right;\">\n",
       "      <th></th>\n",
       "      <th>sepal length (cm)</th>\n",
       "      <th>sepal width (cm)</th>\n",
       "      <th>petal length (cm)</th>\n",
       "      <th>petal width (cm)</th>\n",
       "      <th>species</th>\n",
       "    </tr>\n",
       "  </thead>\n",
       "  <tbody>\n",
       "    <tr>\n",
       "      <th>0</th>\n",
       "      <td>5.1</td>\n",
       "      <td>3.5</td>\n",
       "      <td>1.4</td>\n",
       "      <td>0.2</td>\n",
       "      <td>setosa</td>\n",
       "    </tr>\n",
       "    <tr>\n",
       "      <th>1</th>\n",
       "      <td>4.9</td>\n",
       "      <td>3.0</td>\n",
       "      <td>1.4</td>\n",
       "      <td>0.2</td>\n",
       "      <td>setosa</td>\n",
       "    </tr>\n",
       "    <tr>\n",
       "      <th>2</th>\n",
       "      <td>4.7</td>\n",
       "      <td>3.2</td>\n",
       "      <td>1.3</td>\n",
       "      <td>0.2</td>\n",
       "      <td>setosa</td>\n",
       "    </tr>\n",
       "    <tr>\n",
       "      <th>3</th>\n",
       "      <td>4.6</td>\n",
       "      <td>3.1</td>\n",
       "      <td>1.5</td>\n",
       "      <td>0.2</td>\n",
       "      <td>setosa</td>\n",
       "    </tr>\n",
       "    <tr>\n",
       "      <th>4</th>\n",
       "      <td>5.0</td>\n",
       "      <td>3.6</td>\n",
       "      <td>1.4</td>\n",
       "      <td>0.2</td>\n",
       "      <td>setosa</td>\n",
       "    </tr>\n",
       "  </tbody>\n",
       "</table>\n",
       "</div>"
      ],
      "text/plain": [
       "   sepal length (cm)  sepal width (cm)  petal length (cm)  petal width (cm)  \\\n",
       "0                5.1               3.5                1.4               0.2   \n",
       "1                4.9               3.0                1.4               0.2   \n",
       "2                4.7               3.2                1.3               0.2   \n",
       "3                4.6               3.1                1.5               0.2   \n",
       "4                5.0               3.6                1.4               0.2   \n",
       "\n",
       "  species  \n",
       "0  setosa  \n",
       "1  setosa  \n",
       "2  setosa  \n",
       "3  setosa  \n",
       "4  setosa  "
      ]
     },
     "execution_count": 24,
     "metadata": {},
     "output_type": "execute_result"
    }
   ],
   "source": [
    "import pandas as pd\n",
    "from scipy.stats import f_oneway\n",
    "from statsmodels.stats.multicomp import pairwise_tukeyhsd\n",
    "from sklearn.datasets import load_iris\n",
    "\n",
    "# iris 데이터셋 로드\n",
    "iris = load_iris()\n",
    "data = pd.DataFrame(data=iris.data, columns=iris.feature_names)\n",
    "data['species'] = iris.target_names[iris.target]\n",
    "\n",
    "data.head()"
   ]
  },
  {
   "cell_type": "code",
   "execution_count": 27,
   "id": "977e5686",
   "metadata": {},
   "outputs": [
    {
     "name": "stdout",
     "output_type": "stream",
     "text": [
      "One-way ANOVA 검정 결과:\n",
      "F-statistic: 119.26450218450468\n",
      "p-value: 1.669669190769383e-31\n"
     ]
    }
   ],
   "source": [
    "# 그룹별 데이터 추출\n",
    "group1 = data[data['species'] == 'setosa']['sepal length (cm)']\n",
    "group2 = data[data['species'] == 'versicolor']['sepal length (cm)']\n",
    "group3 = data[data['species'] == 'virginica']['sepal length (cm)']\n",
    "\n",
    "# One-way ANOVA 검정\n",
    "f_statistic, p_value = f_oneway(group1, group2, group3)\n",
    "\n",
    "# 결과 출력\n",
    "print(\"One-way ANOVA 검정 결과:\")\n",
    "print(\"F-statistic:\", f_statistic)\n",
    "print(\"p-value:\", p_value)\n",
    "\n",
    "# 위의 결과에서 p-value 값이 0.05보다 작은 경우 해당 그룹 간에는 유의미한 차이가 있음을 의미합니다. \n",
    "# 따라서, 'sepal_width' 값은 종(species)에 따라 유의미하게 다른 것으로 나타납니다."
   ]
  },
  {
   "cell_type": "code",
   "execution_count": 28,
   "id": "39bc6cc7",
   "metadata": {},
   "outputs": [
    {
     "name": "stdout",
     "output_type": "stream",
     "text": [
      "\n",
      "사후 검정 (Tukey's HSD) 결과:\n",
      "   Multiple Comparison of Means - Tukey HSD, FWER=0.05   \n",
      "=========================================================\n",
      "  group1     group2   meandiff p-adj lower  upper  reject\n",
      "---------------------------------------------------------\n",
      "    setosa versicolor     0.93   0.0 0.6862 1.1738   True\n",
      "    setosa  virginica    1.582   0.0 1.3382 1.8258   True\n",
      "versicolor  virginica    0.652   0.0 0.4082 0.8958   True\n",
      "---------------------------------------------------------\n"
     ]
    }
   ],
   "source": [
    "# 사후 검정 (Tukey's HSD)\n",
    "all_data = pd.concat([group1, group2, group3])\n",
    "group_labels = ['setosa'] * len(group1) + ['versicolor'] * len(group2) + ['virginica'] * len(group3)\n",
    "tukey_results = pairwise_tukeyhsd(all_data, group_labels)\n",
    "\n",
    "# 사후 검정 결과 출력\n",
    "print(\"\\n사후 검정 (Tukey's HSD) 결과:\")\n",
    "print(tukey_results)"
   ]
  },
  {
   "cell_type": "code",
   "execution_count": 19,
   "id": "bdaa7dd9",
   "metadata": {},
   "outputs": [
    {
     "data": {
      "text/plain": [
       "1539"
      ]
     },
     "execution_count": 19,
     "metadata": {},
     "output_type": "execute_result"
    }
   ],
   "source": [
    "# setosa와 versicolor: setosa 그룹과 versicolor 그룹 간의 'sepal_width' 값의 평균 차이는 유의미합니다. (평균 차이: -0.6587)\n",
    "# setosa와 virginica: setosa 그룹과 virginica 그룹 간의 'sepal_width' 값의 평균 차이는 유의미합니다. (평균 차이: -0.454)\n",
    "# versicolor와 virginica: versicolor 그룹과 virginica 그룹 간의 'sepal_width' 값의 평균 차이는 유의미합니다. (평균 차이: 0.2047)\n",
    "# 따라서, 위의 결과를 통해 'sepal_width' 값은 setosa, versicolor, virginica 세 종(species) 간에 서로 다른 평균을 가지고 있으며, 이들 간의 평균 차이는 유의미하다고 할 수 있습니다."
   ]
  },
  {
   "cell_type": "markdown",
   "id": "d9d600d5",
   "metadata": {},
   "source": [
    "##### 6. 주어진 데이터셋은 3개의 그룹으로 나누어진 붓꽃(iris) 데이터셋입니다. 각 그룹은 setosa, versicolor, virginica 종에 해당하는 붓꽃의 꽃잎 길이(sepal length)를 측정한 데이터입니다. 각 그룹의 분산이 서로 동일한지 등분산 검정을 수행하세요."
   ]
  },
  {
   "cell_type": "code",
   "execution_count": 46,
   "id": "f07c681b",
   "metadata": {},
   "outputs": [
    {
     "data": {
      "text/html": [
       "<div>\n",
       "<style scoped>\n",
       "    .dataframe tbody tr th:only-of-type {\n",
       "        vertical-align: middle;\n",
       "    }\n",
       "\n",
       "    .dataframe tbody tr th {\n",
       "        vertical-align: top;\n",
       "    }\n",
       "\n",
       "    .dataframe thead th {\n",
       "        text-align: right;\n",
       "    }\n",
       "</style>\n",
       "<table border=\"1\" class=\"dataframe\">\n",
       "  <thead>\n",
       "    <tr style=\"text-align: right;\">\n",
       "      <th></th>\n",
       "      <th>sepal length (cm)</th>\n",
       "      <th>sepal width (cm)</th>\n",
       "      <th>petal length (cm)</th>\n",
       "      <th>petal width (cm)</th>\n",
       "      <th>species</th>\n",
       "    </tr>\n",
       "  </thead>\n",
       "  <tbody>\n",
       "    <tr>\n",
       "      <th>0</th>\n",
       "      <td>5.1</td>\n",
       "      <td>3.5</td>\n",
       "      <td>1.4</td>\n",
       "      <td>0.2</td>\n",
       "      <td>setosa</td>\n",
       "    </tr>\n",
       "    <tr>\n",
       "      <th>1</th>\n",
       "      <td>4.9</td>\n",
       "      <td>3.0</td>\n",
       "      <td>1.4</td>\n",
       "      <td>0.2</td>\n",
       "      <td>setosa</td>\n",
       "    </tr>\n",
       "    <tr>\n",
       "      <th>2</th>\n",
       "      <td>4.7</td>\n",
       "      <td>3.2</td>\n",
       "      <td>1.3</td>\n",
       "      <td>0.2</td>\n",
       "      <td>setosa</td>\n",
       "    </tr>\n",
       "    <tr>\n",
       "      <th>3</th>\n",
       "      <td>4.6</td>\n",
       "      <td>3.1</td>\n",
       "      <td>1.5</td>\n",
       "      <td>0.2</td>\n",
       "      <td>setosa</td>\n",
       "    </tr>\n",
       "    <tr>\n",
       "      <th>4</th>\n",
       "      <td>5.0</td>\n",
       "      <td>3.6</td>\n",
       "      <td>1.4</td>\n",
       "      <td>0.2</td>\n",
       "      <td>setosa</td>\n",
       "    </tr>\n",
       "  </tbody>\n",
       "</table>\n",
       "</div>"
      ],
      "text/plain": [
       "   sepal length (cm)  sepal width (cm)  petal length (cm)  petal width (cm)  \\\n",
       "0                5.1               3.5                1.4               0.2   \n",
       "1                4.9               3.0                1.4               0.2   \n",
       "2                4.7               3.2                1.3               0.2   \n",
       "3                4.6               3.1                1.5               0.2   \n",
       "4                5.0               3.6                1.4               0.2   \n",
       "\n",
       "  species  \n",
       "0  setosa  \n",
       "1  setosa  \n",
       "2  setosa  \n",
       "3  setosa  \n",
       "4  setosa  "
      ]
     },
     "execution_count": 46,
     "metadata": {},
     "output_type": "execute_result"
    }
   ],
   "source": [
    "import pandas as pd\n",
    "from scipy.stats import bartlett\n",
    "from sklearn.datasets import load_iris\n",
    "\n",
    "# iris 데이터셋 로드\n",
    "iris = load_iris()\n",
    "data = pd.DataFrame(data=iris.data, columns=iris.feature_names)\n",
    "data['species'] = iris.target_names[iris.target]\n",
    "\n",
    "data.head()"
   ]
  },
  {
   "cell_type": "code",
   "execution_count": 47,
   "id": "8dd8cb80",
   "metadata": {},
   "outputs": [
    {
     "name": "stdout",
     "output_type": "stream",
     "text": [
      "등분산 검정 결과:\n",
      "통계량: 16.005701874401502\n",
      "p-value: 0.0003345076070163035\n"
     ]
    }
   ],
   "source": [
    "# 등분산 검정을 위한 데이터 형식 변환\n",
    "setosa = data[data['species'] == 'setosa']['sepal length (cm)']\n",
    "versicolor = data[data['species'] == 'versicolor']['sepal length (cm)']\n",
    "virginica = data[data['species'] == 'virginica']['sepal length (cm)']\n",
    "\n",
    "# 등분산 검정 수행\n",
    "statistic, p_value = bartlett(setosa, versicolor, virginica)\n",
    "\n",
    "# 결과 출력\n",
    "print(\"등분산 검정 결과:\")\n",
    "print(\"통계량:\", statistic)\n",
    "print(\"p-value:\", p_value)"
   ]
  },
  {
   "cell_type": "code",
   "execution_count": 48,
   "id": "ed35dfce",
   "metadata": {},
   "outputs": [],
   "source": [
    "# 귀무 가설(H0): 세 그룹의 분산은 동일하다. (등분산)\n",
    "# 대립 가설(H1): 세 그룹의 분산은 서로 다르다. (비등분산)"
   ]
  },
  {
   "cell_type": "markdown",
   "id": "df3d2bb7",
   "metadata": {},
   "source": [
    "### 7. 세 가지 다른 비료 종류(A, B, C)를 사용하여 같은 작물에 대해 실험을 진행하였습니다. 실험 결과는 다음과 같습니다:\n",
    "\n",
    "비료 A를 사용한 실험 그룹: [12, 15, 18, 11, 16]\n",
    "비료 B를 사용한 실험 그룹: [10, 8, 12, 9, 11]\n",
    "비료 C를 사용한 실험 그룹: [16, 20, 22, 19, 18]\n",
    "세 그룹 간의 평균 차이가 있는지 확인하기 위해 등분산 검정을 수행하세요. 유의 수준 0.05에서 F-검정을 수행하고 결과를 해석하세요.\n",
    "\n",
    "가설 설정:\n",
    "\n",
    "귀무 가설(H0): 세 그룹의 평균은 동일하다.\n",
    "대립 가설(H1): 적어도 하나의 그룹의 평균은 다른 그룹과 다르다.\n",
    "유의 수준:\n",
    "\n",
    "α = 0.05\n",
    "F-검정 수행 및 결과 해석을 작성하세요."
   ]
  },
  {
   "cell_type": "code",
   "execution_count": 49,
   "id": "2ef1de97",
   "metadata": {},
   "outputs": [
    {
     "name": "stdout",
     "output_type": "stream",
     "text": [
      "F-검정 결과:\n",
      "통계량 (F-통계량): 19.227848101265828\n",
      "p-value: 0.00018097819725543067\n",
      "귀무 가설(H0) 기각: 세 그룹의 평균은 서로 다릅니다.\n"
     ]
    }
   ],
   "source": [
    "import numpy as np\n",
    "from scipy.stats import f\n",
    "\n",
    "# 데이터셋\n",
    "group_A = [12, 15, 18, 11, 16]\n",
    "group_B = [10, 8, 12, 9, 11]\n",
    "group_C = [16, 20, 22, 19, 18]\n",
    "\n",
    "# 등분산 검정\n",
    "f_statistic, p_value = f_oneway(group_A, group_B, group_C)\n",
    "\n",
    "# 결과 출력\n",
    "alpha = 0.05\n",
    "print(\"F-검정 결과:\")\n",
    "print(\"통계량 (F-통계량):\", f_statistic)\n",
    "print(\"p-value:\", p_value)\n",
    "if p_value < alpha:\n",
    "    print(\"귀무 가설(H0) 기각: 세 그룹의 평균은 서로 다릅니다.\")\n",
    "else:\n",
    "    print(\"귀무 가설(H0) 채택: 세 그룹의 평균은 동일합니다.\")"
   ]
  },
  {
   "cell_type": "markdown",
   "id": "239466f9",
   "metadata": {},
   "source": [
    "#### 8. 타이타닉 데이터셋에서 성별(sex)과 생존 여부(survived) 사이의 독립성을 검정하려고 합니다. chi-square 독립성 검정을 수행하여 성별과 생존 여부 사이의 관련성을 확인하세요.\n",
    "\n",
    "데이터셋:\n",
    "\n",
    "타이타닉 데이터셋의 일부를 활용합니다.\n",
    "\n",
    "가설 설정:\n",
    "\n",
    "귀무 가설(H0): 성별과 생존 여부는 독립적이다. (즉, 성별과 생존 여부 사이에 관련성이 없다.)\n",
    "대립 가설(H1): 성별과 생존 여부는 독립적이지 않다. (즉, 성별과 생존 여부 사이에 관련성이 있다.)\n",
    "유의 수준:\n",
    "\n",
    "α = 0.05\n",
    "chi-square 독립성 검정 수행 및 결과 해석을 쓰세요."
   ]
  },
  {
   "cell_type": "code",
   "execution_count": 51,
   "id": "3acd14c0",
   "metadata": {},
   "outputs": [
    {
     "data": {
      "text/html": [
       "<div>\n",
       "<style scoped>\n",
       "    .dataframe tbody tr th:only-of-type {\n",
       "        vertical-align: middle;\n",
       "    }\n",
       "\n",
       "    .dataframe tbody tr th {\n",
       "        vertical-align: top;\n",
       "    }\n",
       "\n",
       "    .dataframe thead th {\n",
       "        text-align: right;\n",
       "    }\n",
       "</style>\n",
       "<table border=\"1\" class=\"dataframe\">\n",
       "  <thead>\n",
       "    <tr style=\"text-align: right;\">\n",
       "      <th></th>\n",
       "      <th>survived</th>\n",
       "      <th>pclass</th>\n",
       "      <th>sex</th>\n",
       "      <th>age</th>\n",
       "      <th>sibsp</th>\n",
       "      <th>parch</th>\n",
       "      <th>fare</th>\n",
       "      <th>embarked</th>\n",
       "      <th>class</th>\n",
       "      <th>who</th>\n",
       "      <th>adult_male</th>\n",
       "      <th>deck</th>\n",
       "      <th>embark_town</th>\n",
       "      <th>alive</th>\n",
       "      <th>alone</th>\n",
       "    </tr>\n",
       "  </thead>\n",
       "  <tbody>\n",
       "    <tr>\n",
       "      <th>0</th>\n",
       "      <td>0</td>\n",
       "      <td>3</td>\n",
       "      <td>male</td>\n",
       "      <td>22.0</td>\n",
       "      <td>1</td>\n",
       "      <td>0</td>\n",
       "      <td>7.2500</td>\n",
       "      <td>S</td>\n",
       "      <td>Third</td>\n",
       "      <td>man</td>\n",
       "      <td>True</td>\n",
       "      <td>NaN</td>\n",
       "      <td>Southampton</td>\n",
       "      <td>no</td>\n",
       "      <td>False</td>\n",
       "    </tr>\n",
       "    <tr>\n",
       "      <th>1</th>\n",
       "      <td>1</td>\n",
       "      <td>1</td>\n",
       "      <td>female</td>\n",
       "      <td>38.0</td>\n",
       "      <td>1</td>\n",
       "      <td>0</td>\n",
       "      <td>71.2833</td>\n",
       "      <td>C</td>\n",
       "      <td>First</td>\n",
       "      <td>woman</td>\n",
       "      <td>False</td>\n",
       "      <td>C</td>\n",
       "      <td>Cherbourg</td>\n",
       "      <td>yes</td>\n",
       "      <td>False</td>\n",
       "    </tr>\n",
       "    <tr>\n",
       "      <th>2</th>\n",
       "      <td>1</td>\n",
       "      <td>3</td>\n",
       "      <td>female</td>\n",
       "      <td>26.0</td>\n",
       "      <td>0</td>\n",
       "      <td>0</td>\n",
       "      <td>7.9250</td>\n",
       "      <td>S</td>\n",
       "      <td>Third</td>\n",
       "      <td>woman</td>\n",
       "      <td>False</td>\n",
       "      <td>NaN</td>\n",
       "      <td>Southampton</td>\n",
       "      <td>yes</td>\n",
       "      <td>True</td>\n",
       "    </tr>\n",
       "    <tr>\n",
       "      <th>3</th>\n",
       "      <td>1</td>\n",
       "      <td>1</td>\n",
       "      <td>female</td>\n",
       "      <td>35.0</td>\n",
       "      <td>1</td>\n",
       "      <td>0</td>\n",
       "      <td>53.1000</td>\n",
       "      <td>S</td>\n",
       "      <td>First</td>\n",
       "      <td>woman</td>\n",
       "      <td>False</td>\n",
       "      <td>C</td>\n",
       "      <td>Southampton</td>\n",
       "      <td>yes</td>\n",
       "      <td>False</td>\n",
       "    </tr>\n",
       "    <tr>\n",
       "      <th>4</th>\n",
       "      <td>0</td>\n",
       "      <td>3</td>\n",
       "      <td>male</td>\n",
       "      <td>35.0</td>\n",
       "      <td>0</td>\n",
       "      <td>0</td>\n",
       "      <td>8.0500</td>\n",
       "      <td>S</td>\n",
       "      <td>Third</td>\n",
       "      <td>man</td>\n",
       "      <td>True</td>\n",
       "      <td>NaN</td>\n",
       "      <td>Southampton</td>\n",
       "      <td>no</td>\n",
       "      <td>True</td>\n",
       "    </tr>\n",
       "  </tbody>\n",
       "</table>\n",
       "</div>"
      ],
      "text/plain": [
       "   survived  pclass     sex   age  sibsp  parch     fare embarked  class  \\\n",
       "0         0       3    male  22.0      1      0   7.2500        S  Third   \n",
       "1         1       1  female  38.0      1      0  71.2833        C  First   \n",
       "2         1       3  female  26.0      0      0   7.9250        S  Third   \n",
       "3         1       1  female  35.0      1      0  53.1000        S  First   \n",
       "4         0       3    male  35.0      0      0   8.0500        S  Third   \n",
       "\n",
       "     who  adult_male deck  embark_town alive  alone  \n",
       "0    man        True  NaN  Southampton    no  False  \n",
       "1  woman       False    C    Cherbourg   yes  False  \n",
       "2  woman       False  NaN  Southampton   yes   True  \n",
       "3  woman       False    C  Southampton   yes  False  \n",
       "4    man        True  NaN  Southampton    no   True  "
      ]
     },
     "execution_count": 51,
     "metadata": {},
     "output_type": "execute_result"
    }
   ],
   "source": [
    "import pandas as pd\n",
    "from scipy.stats import chi2_contingency\n",
    "\n",
    "# 타이타닉 데이터셋 로드\n",
    "titanic_data = pd.read_csv('titanic.csv')\n",
    "\n",
    "titanic_data.head()"
   ]
  },
  {
   "cell_type": "code",
   "execution_count": 52,
   "id": "984a6e79",
   "metadata": {},
   "outputs": [
    {
     "name": "stdout",
     "output_type": "stream",
     "text": [
      "chi-square 독립성 검정 결과:\n",
      "통계량 (chi2 통계량): 260.71702016732104\n",
      "p-value: 1.1973570627755645e-58\n",
      "귀무 가설(H0) 기각: 성별과 생존 여부는 독립적이지 않습니다.\n"
     ]
    }
   ],
   "source": [
    "\n",
    "# 교차 테이블 생성\n",
    "cross_table = pd.crosstab(titanic_data['sex'], titanic_data['survived'])\n",
    "\n",
    "# chi-square 독립성 검정 수행\n",
    "chi2_statistic, p_value, dof, expected = chi2_contingency(cross_table)\n",
    "\n",
    "# 결과 출력\n",
    "alpha = 0.05\n",
    "print(\"chi-square 독립성 검정 결과:\")\n",
    "print(\"통계량 (chi2 통계량):\", chi2_statistic)\n",
    "print(\"p-value:\", p_value)\n",
    "if p_value < alpha:\n",
    "    print(\"귀무 가설(H0) 기각: 성별과 생존 여부는 독립적이지 않습니다.\")\n",
    "else:\n",
    "    print(\"귀무 가설(H0) 채택: 성별과 생존 여부는 독립적입니다.\")"
   ]
  },
  {
   "cell_type": "markdown",
   "id": "4e6005ec",
   "metadata": {},
   "source": [
    "#### 9. 타이타닉 데이터셋에서 나이(age)와 요금(fare) 사이의 상관 관계를 확인하려고 합니다. pandas의 corr() 함수를 사용하여 나이와 요금 사이의 상관 계수를 계산하세요."
   ]
  },
  {
   "cell_type": "code",
   "execution_count": 53,
   "id": "5da52924",
   "metadata": {},
   "outputs": [
    {
     "name": "stdout",
     "output_type": "stream",
     "text": [
      "상관 계수 결과:\n",
      "상관 계수: 0.09606669176903888\n",
      "두 변수는 양의 상관 관계를 가집니다.\n"
     ]
    }
   ],
   "source": [
    "import pandas as pd\n",
    "\n",
    "# 타이타닉 데이터셋 로드\n",
    "titanic_data = pd.read_csv('titanic.csv')\n",
    "\n",
    "# 나이(age)와 요금(fare) 사이의 상관 계수 계산\n",
    "correlation = titanic_data['age'].corr(titanic_data['fare'])\n",
    "\n",
    "# 결과 출력\n",
    "print(\"상관 계수 결과:\")\n",
    "print(\"상관 계수:\", correlation)\n",
    "if correlation > 0:\n",
    "    print(\"두 변수는 양의 상관 관계를 가집니다.\")\n",
    "elif correlation < 0:\n",
    "    print(\"두 변수는 음의 상관 관계를 가집니다.\")\n",
    "else:\n",
    "    print(\"두 변수는 상관 관계가 없습니다.\")"
   ]
  },
  {
   "cell_type": "code",
   "execution_count": null,
   "id": "92e006b0",
   "metadata": {},
   "outputs": [],
   "source": []
  }
 ],
 "metadata": {
  "kernelspec": {
   "display_name": "Python 3 (ipykernel)",
   "language": "python",
   "name": "python3"
  },
  "language_info": {
   "codemirror_mode": {
    "name": "ipython",
    "version": 3
   },
   "file_extension": ".py",
   "mimetype": "text/x-python",
   "name": "python",
   "nbconvert_exporter": "python",
   "pygments_lexer": "ipython3",
   "version": "3.9.5"
  }
 },
 "nbformat": 4,
 "nbformat_minor": 5
}
